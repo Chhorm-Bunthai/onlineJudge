{
 "cells": [
  {
   "cell_type": "markdown",
   "id": "1c042568",
   "metadata": {},
   "source": [
    "# 4.11\n",
    "## Subtraction\n",
    "### Description\n",
    "One day, Euler thought that turning a certain number N (1≤N≤999,999) upside down and subtracting it to the original number would produce very interesting results. When N is given as input, print the result of subtraction.\n",
    "### Input\n",
    "### Output\n",
    "### Sample Output\n",
    "321\n",
    "### Sample Output\n",
    "198"
   ]
  },
  {
   "cell_type": "code",
   "execution_count": 11,
   "id": "711db0b2",
   "metadata": {},
   "outputs": [
    {
     "name": "stdout",
     "output_type": "stream",
     "text": [
      "123\n",
      "-198\n"
     ]
    }
   ],
   "source": [
    "def solve(n):\n",
    "    return n - int(str(n)[::-1])\n",
    "N = int(input())\n",
    "print(solve(N))"
   ]
  },
  {
   "cell_type": "markdown",
   "id": "ca4b5ab1",
   "metadata": {},
   "source": [
    "# 4.12\n",
    "## Palindrome Number\n",
    "### Description\n",
    "A number that is the same whether read from the front or from the back is called a palindrome number. For example, there are a total of 9 palindrome numbers consisting of two digits: 11, 22, 33, 44, 55, 66, 77, 88, and 99. When A and B (1≤A≤B≤100,000) are given as input, write a program to find the palindrome number and the number of palindrome numbers among integers greater than or equal to A or less than or equal to B.\n",
    "### Input\n",
    "Two positive integers A, B (1≤A≤B≤100,000) are given, separated by a space.\n",
    "### Output\n",
    "In the first line, palindromic numbers greater than or equal to A to less than or equal to B are displayed, each separated by a space. In the second line, the number of palindromic numbers among the numbers in the range of greater than or equal to A to less than or equal to B are displayed.\n",
    "### Sample Output\n",
    "100 200\n",
    "### Sample Output\n",
    "100 200<br>\n",
    "101 111 121 131 141 151 161 171 181 191 <br>\n",
    "10"
   ]
  },
  {
   "cell_type": "code",
   "execution_count": 10,
   "id": "2004ee00",
   "metadata": {},
   "outputs": [
    {
     "name": "stdout",
     "output_type": "stream",
     "text": [
      "100 200\n",
      "100 200\n",
      "101 111 121 131 141 151 161 171 181 191 \n",
      "10\n"
     ]
    }
   ],
   "source": [
    "def is_palindrome(n):\n",
    "    s = str(n)\n",
    "    r = s[::-1]\n",
    "    return int(s) == int(r)\n",
    "def solve(a, b):\n",
    "    lst = []\n",
    "    for i in range(a, b+1):\n",
    "        if is_palindrome(i):\n",
    "            lst.append(i)\n",
    "    return lst\n",
    "A, B = map(int, input().split())\n",
    "print(A, B)\n",
    "res = solve(A, B)\n",
    "for i in res:\n",
    "    print(int(i), end = ' ')\n",
    "print()\n",
    "print(len(res))"
   ]
  },
  {
   "cell_type": "markdown",
   "id": "050261aa",
   "metadata": {},
   "source": [
    "# 4.13\n",
    "## Twin Primes\n",
    "### Description\n",
    "Among prime numbers, there are numbers whose difference is 2, such as 3 and 5, 11 and 13, and 17 and 19. Numbers whose difference is 2 are called twin primes. Find twin primes between 1 and 100 using the Sieve of Eratosthenes.\n",
    "### Input\n",
    "### Output\n",
    "Print the pairs of twin primes greater than 1 or equal to 100 on each line. In a pair of twin prime numbers, print the larger number on the left, separate it with a space, and print the smaller number on the right. Pairs of twin primes of 1 or more and 100 or less are printed on each line in order of the first number from small to large.\n",
    "### Sample input\n",
    "### Sample Output\n",
    "5 3 <br>\n",
    "7 5 <br>\n",
    "13 11<br>\n",
    "19 17<br>\n",
    "31 29<br>\n",
    "43 41<br>\n",
    "61 59<br>\n",
    "73 71"
   ]
  },
  {
   "cell_type": "code",
   "execution_count": 16,
   "id": "640c1f68",
   "metadata": {},
   "outputs": [
    {
     "name": "stdout",
     "output_type": "stream",
     "text": [
      "5 3\n",
      "7 5\n",
      "13 11\n",
      "19 17\n",
      "31 29\n",
      "43 41\n",
      "61 59\n",
      "73 71\n"
     ]
    }
   ],
   "source": [
    "def sieve_of_eratosthenes(limit):\n",
    "    primes = [True] * (limit + 1)\n",
    "    primes[0] = primes[1] = False\n",
    "\n",
    "    for i in range(2, int(limit**0.5) + 1):\n",
    "        if primes[i]:\n",
    "            for j in range(i**2, limit + 1, i):\n",
    "                primes[j] = False\n",
    "\n",
    "    return [num for num in range(2, limit + 1) if primes[num]]\n",
    "def find_twin_primes(primes):\n",
    "    twin_primes = []\n",
    "    for i in range(len(primes) - 1):\n",
    "        if primes[i + 1] - primes[i] == 2:\n",
    "            twin_primes.append((primes[i + 1], primes[i]))\n",
    "    return twin_primes\n",
    "prime_numbers = sieve_of_eratosthenes(100)\n",
    "twin_prime_pairs = find_twin_primes(prime_numbers)\n",
    "for pair in twin_prime_pairs:\n",
    "    print(f\"{pair[0]} {pair[1]}\")\n"
   ]
  },
  {
   "cell_type": "markdown",
   "id": "4b4d4728",
   "metadata": {},
   "source": [
    "# 4.14\n",
    "## The Goldbach’s Conjecture(2)\n",
    "### Description\n",
    "There are still many difficult problems that remain unresolved in the current mathematics world. One of these is Goldbach’s Conjecture. This is Goldbach's guess that was written in a letter to mathematician Euler. “Every even number greater than 2 can be written as the sum of two prime numbers.”\n",
    "\n",
    "As many mathematicians have not been able to do so far, it proves how quite difficult it is. However, even if we cannot prove this, those of us who use computers that provide amazing calculation speeds can prove it by directly finding the answer to a given example. In other words, if someone asks if the even number 14 can be expressed as the sum of two prime numbers, we can just give the answer of 3 + 11. Given an even number N greater than 2 (2≤N≤30,000), let's write a program that prints the two prime numbers that can form this number.\n",
    "### Input\n",
    "### Output\n",
    "Two prime numbers a and b whose sum is N are output in turn. a is always a number less than or equal to b, and if there are multiple answers, they are all printed. If a is small, it is output first, and it is output one per line. The last line outputs the count.\n",
    "### Sample input\n",
    "32\n",
    "### Sample Output\n",
    "3 29 <br>\n",
    "13 19 <br>\n",
    "2"
   ]
  },
  {
   "cell_type": "code",
   "execution_count": 3,
   "id": "0e151837",
   "metadata": {},
   "outputs": [
    {
     "name": "stdout",
     "output_type": "stream",
     "text": [
      "32\n",
      "3 29\n",
      "13 19\n",
      "13 19\n",
      "3 29\n",
      "4\n"
     ]
    }
   ],
   "source": [
    "def sieve_of_eratosthenes(limit):\n",
    "    primes = [True] * (limit + 1)\n",
    "    primes[0] = primes[1] = False\n",
    "    for i in range(2, int(limit**0.5) + 1):\n",
    "        if primes[i]:\n",
    "            for j in range(i**2, limit + 1, i):\n",
    "                primes[j] = False\n",
    "    return [num for num in range(2, limit + 1) if primes[num]]\n",
    "def goldbach_conjecture(N):\n",
    "    primes = sieve_of_eratosthenes(N)\n",
    "    result = []\n",
    "    for prime in primes:\n",
    "        complement = N - prime\n",
    "        if complement in primes:\n",
    "            result.append((min(prime, complement), max(prime, complement)))\n",
    "    return result\n",
    "N = int(input())\n",
    "result = goldbach_conjecture(N)\n",
    "for pair in result:\n",
    "    print(f\"{pair[0]} {pair[1]}\")\n",
    "print(len(result))\n"
   ]
  },
  {
   "cell_type": "markdown",
   "id": "5b093ad8",
   "metadata": {},
   "source": [
    "# 4.15\n",
    "## Identifying palindromes\n",
    "### Description\n",
    "A palindrome is a word, sentence, verse, or even number that reads the same backward or forward. For example, it includes 'Was it a cat I saw?' Write an algorithm to determine the number of palindromes contained in a given string. However, when checking palindromes, punctuation marks and spaces can be ignored.\n",
    "### Input\n",
    "### Output\n",
    "### Sample input\n",
    "mississippi\n",
    "### Sample Output\n",
    "33"
   ]
  },
  {
   "cell_type": "code",
   "execution_count": null,
   "id": "e7ba1f10",
   "metadata": {},
   "outputs": [],
   "source": []
  },
  {
   "cell_type": "markdown",
   "id": "f4b26af4",
   "metadata": {},
   "source": [
    "# 4.16\n",
    "## Finding prime factorization\n",
    "### Description\n",
    "A prime factor is a number that is a prime number among the divisors of a number. Write a code that prints the prime factorization result of the number given as input.\n",
    "### Input\n",
    "A positive integer n greater than or equal to 2 is given as input.\n",
    "### Output\n",
    "The prime factors of the input integer n are printed one per line in order from smallest to largest.\n",
    "### Sample Output\n",
    "105\n",
    "### Sample Output\n",
    "3 5 7"
   ]
  },
  {
   "cell_type": "code",
   "execution_count": 11,
   "id": "fea2b47a",
   "metadata": {},
   "outputs": [
    {
     "name": "stdout",
     "output_type": "stream",
     "text": [
      "105\n",
      "3 5 7\n"
     ]
    }
   ],
   "source": [
    "def factorize(n):\n",
    "    factors = []\n",
    "    for i in range(2, int(n ** 0.5) + 1):\n",
    "        while n % i == 0:\n",
    "            factors.append(i)\n",
    "            n //= i\n",
    "    if n != 1:\n",
    "        factors.append(n)\n",
    "    return factors\n",
    "def solve(n):\n",
    "    factors = factorize(n)\n",
    "    print(' '.join(map(str, factors)))\n",
    "N = int(input())\n",
    "solve(N)"
   ]
  },
  {
   "cell_type": "markdown",
   "id": "f81c2c08",
   "metadata": {},
   "source": [
    "# 4.17\n",
    "## Valid Palindrome\n",
    "### Description\n",
    "A phrase is a palindrome if, after converting all uppercase letters into lowercase letters and removing all non-alphanumeric characters, it reads the same forward and backward. Alphanumeric characters include letters and numbers.\n",
    "\n",
    "Given a string s, return true if it is a palindrome, or false otherwise.\n",
    "\n",
    "Constraints:\n",
    "\n",
    "1 ≤ s.length ≤ 2 * 10⁵\n",
    "\n",
    "s consists only of printable ASCII characters.\n",
    "### Input\n",
    "### Output\n",
    "### Sample Output\n",
    "race a car\n",
    "### Sample Output\n",
    "False"
   ]
  },
  {
   "cell_type": "markdown",
   "id": "b306c3cf",
   "metadata": {},
   "source": [
    "# explaination\n",
    "```Imagine you have a magical book that contains secret messages hidden within its pages. To decipher these messages, you need to determine if a given phrase is a palindrome. A palindrome is a phrase that reads the same forward and backward, even when you ignore spaces, punctuation, and the difference between uppercase and lowercase letters.\n",
    "\n",
    "For example, let's consider the phrase \"race a car.\" If we remove the spaces and convert all letters to lowercase, we get \"raceacar.\" Now, if we read it backward, it still spells \"raceacar.\" Since it reads the same forward and backward, we can say that \"race a car\" is not a palindrome.\n",
    "\n",
    "To solve this problem programmatically, we can follow these steps using our magical book analogy:\n",
    "\n",
    "Open the magical book and find the given phrase.\n",
    "Remove all spaces and punctuation marks from the phrase to get the secret message.\n",
    "Convert all letters in the secret message to lowercase to eliminate any confusion caused by uppercase letters.\n",
    "Imagine holding the secret message in your hands and reading it forward.\n",
    "Imagine flipping the secret message over and reading it backward.\n",
    "Compare the forward and backward readings of the secret message.\n",
    "If they are the same, rejoice! The phrase is a palindrome, so return true.\n",
    "If they are different, sadly inform yourself that the phrase is not a palindrome, and return false.\n",
    "Let's apply this analogy to the provided example:\n",
    "\n",
    "Given the phrase \"race a car,\" we remove the spaces and get \"raceacar.\" After converting it to lowercase, we still have \"raceacar.\" Now, let's imagine holding this secret message in our hands and reading it forward: \"raceacar.\" If we flip it over and read it backward, we would still say \"raceacar.\" Since both readings are the same, we conclude that \"race a car\" is not a palindrome and return false.```"
   ]
  },
  {
   "cell_type": "code",
   "execution_count": 12,
   "id": "f9f05f2d",
   "metadata": {},
   "outputs": [
    {
     "name": "stdout",
     "output_type": "stream",
     "text": [
      "False\n"
     ]
    }
   ],
   "source": [
    "def is_valid_palindrome(s):\n",
    "    cleaned_str = ''.join(char.lower() for char in s if char.isalnum())\n",
    "    return cleaned_str == cleaned_str[::-1]\n",
    "string = input()\n",
    "result = is_valid_palindrome(string)\n",
    "print(result)\n"
   ]
  },
  {
   "cell_type": "markdown",
   "id": "d3538576",
   "metadata": {},
   "source": [
    "# 4.18\n",
    "## Reverse String\n",
    "### Description\n",
    "Write a function that reverses a string. The input string is given as an array of characters s. You must do this by modifying the input array in-place with O(1) extra memory. The output displays the entered string and the flipped string on a single line, respectively.\n",
    "\n",
    "Constraints:\n",
    "\n",
    "1 ≤ s.length ≤ 10⁵\n",
    "\n",
    "s[i] is a printable ascii character.\n",
    "### Input\n",
    "### Output\n",
    "### Sample Output\n",
    "abcdefg\n",
    "### Sample Output\n",
    "abcdefg <br>\n",
    "gfedcba"
   ]
  },
  {
   "cell_type": "code",
   "execution_count": 14,
   "id": "063eee30",
   "metadata": {},
   "outputs": [
    {
     "name": "stdout",
     "output_type": "stream",
     "text": [
      "abcdefg\n",
      "abcdefg\n",
      "gfedcba\n"
     ]
    }
   ],
   "source": [
    "def solve(s):\n",
    "    return s[::-1]\n",
    "S = input()\n",
    "print(S)\n",
    "print(solve(S))"
   ]
  },
  {
   "cell_type": "markdown",
   "id": "1810d568",
   "metadata": {},
   "source": [
    "# 4.19\n",
    "## Longest Palindromic Substring\n",
    "### Description\n",
    "Given a string s, return the longest palindromic substring in s.\n",
    "\n",
    "Constraints:\n",
    "\n",
    "1 ≤ s.length ≤ 1000\n",
    "\n",
    "s consist of only digits and English letters.\n",
    "### Input\n",
    "### Output\n",
    "### Sample Output\n",
    "cbbd\n",
    "### Sample Output\n",
    "bb"
   ]
  },
  {
   "cell_type": "code",
   "execution_count": 22,
   "id": "4cdd337c",
   "metadata": {},
   "outputs": [
    {
     "name": "stdout",
     "output_type": "stream",
     "text": [
      "bb\n"
     ]
    }
   ],
   "source": [
    "def longestPalindrome(s):\n",
    "    if len(s) < 2:\n",
    "        return s\n",
    "\n",
    "    start = 0\n",
    "    max_len = 1\n",
    "\n",
    "    for i in range(len(s)):\n",
    "        # Check for odd-length palindromes\n",
    "        left = i - 1\n",
    "        right = i + 1\n",
    "        while left >= 0 and right < len(s) and s[left] == s[right]:\n",
    "            if right - left + 1 > max_len:\n",
    "                start = left\n",
    "                max_len = right - left + 1\n",
    "            left -= 1\n",
    "            right += 1\n",
    "\n",
    "        # Check for even-length palindromes\n",
    "        left = i\n",
    "        right = i + 1\n",
    "        while left >= 0 and right < len(s) and s[left] == s[right]:\n",
    "            if right - left + 1 > max_len:\n",
    "                start = left\n",
    "                max_len = right - left + 1\n",
    "            left -= 1\n",
    "            right += 1\n",
    "\n",
    "    return s[start:start + max_len]\n",
    "\n",
    "# Example usage:\n",
    "input_string = \"cbbd\"\n",
    "# input_string = \"babad\"\n",
    "result = longestPalindrome(input_string)\n",
    "print(result)\n"
   ]
  },
  {
   "cell_type": "markdown",
   "id": "18983598",
   "metadata": {},
   "source": [
    "# 4.20\n",
    "## Two Sum\n",
    "### Description\n",
    "Given an array of integers nums and an integer target, return indices of the two numbers such that they add up to target.\n",
    "\n",
    "You may assume that each input would have exactly one solution, and you may not use the same element twice.\n",
    "\n",
    "You can return the answer in any order.\n",
    "\n",
    "Constraints:\n",
    "\n",
    "2 ≤ nums.length ≤ 10⁴\n",
    "-10⁹ ≤ nums[i] ≤ 10⁹\n",
    "-10⁹ ≤ target ≤ 10⁹\n",
    "Only one valid answer exists.\n",
    "### Input\n",
    "The first line is given an array nums and a number target in integer form.\n",
    "### Output\n",
    "Two indices satisfying the condition are output in the form of a list.\n",
    "### Sample Output\n",
    "2 7 11 15 <br>\n",
    "9\n",
    "### Sample Output\n",
    "[0, 1]"
   ]
  },
  {
   "cell_type": "code",
   "execution_count": 33,
   "id": "4a6d2ed4",
   "metadata": {
    "scrolled": true
   },
   "outputs": [
    {
     "name": "stdout",
     "output_type": "stream",
     "text": [
      "2 7 11 15\n",
      "9\n",
      "[0, 1]\n"
     ]
    }
   ],
   "source": [
    "def solve(lst, target):\n",
    "    for i in range(len(lst)):\n",
    "        for j in range(i + 1, len(lst)):\n",
    "            if int(lst[i]) + int(lst[j]) == target:\n",
    "                print(list((i,j)))\n",
    "lst = input().split()\n",
    "target = int(input())\n",
    "solve(lst, target)"
   ]
  },
  {
   "cell_type": "markdown",
   "id": "1379f4e4",
   "metadata": {},
   "source": [
    "# 4.21\n",
    "## Find minimum value among prime & palindromic numbers\n",
    "### Description\n",
    "A palindromic number is a number that remains the same when its digits are reversed. For example, 82,328 and 153,351 are palindromic numbers.\n",
    "\n",
    "Given a number N (1 ≤ N ≤ 1,000,000), write a program to find the smallest number that is greater than or equal to N, is prime, and is a palindrome.\n",
    "### Input\n",
    "N is given in the first line.\n",
    "### Output\n",
    "Prints the number that satisfies the condition on the first line.\n",
    "### Sample Output\n",
    "30\n",
    "### Sample Output\n",
    "101"
   ]
  },
  {
   "cell_type": "code",
   "execution_count": 45,
   "id": "4044ee98",
   "metadata": {},
   "outputs": [
    {
     "name": "stdout",
     "output_type": "stream",
     "text": [
      "30 \n",
      "101\n"
     ]
    }
   ],
   "source": [
    "def is_prime(num):\n",
    "    if num < 2:\n",
    "        return False\n",
    "    for i in range(2, int(num**0.5) + 1):\n",
    "        if num % i == 0:\n",
    "            return False\n",
    "    return True\n",
    "\n",
    "def is_palindrome(num):\n",
    "    return str(num) == str(num)[::-1]\n",
    "def find_next_prime_palindrome(N):\n",
    "    while True:\n",
    "        if is_prime(N) and is_palindrome(N):\n",
    "            return N\n",
    "        N += 1\n",
    "N = int(input())\n",
    "result = find_next_prime_palindrome(N)\n",
    "print(result)\n"
   ]
  },
  {
   "cell_type": "markdown",
   "id": "e1f1a0ce",
   "metadata": {},
   "source": [
    "# 4.22\n",
    "## Find prime numbers\n",
    "### Description\n",
    "Write a program that prints all prime numbers greater than or equal to M and less than or equal to N, and calculate the sum of all printed prime numbers.\n",
    "### Input\n",
    "In the first line, the natural numbers M and N (1≤M≤N≤1,000,000) are given with spaces in between. Only inputs containing at least one prime number greater than or equal to M and less than or equal to N are given.\n",
    "### Output\n",
    "The first line prints prime numbers in ascending order. Each prime number is output separated by a single space. The second line prints the sum of all prime numbers printed on the first line.\n",
    "### Sample Output\n",
    "10 30\n",
    "### Sample Output\n",
    "11 13 17 19 23 29 <br>\n",
    "112"
   ]
  },
  {
   "cell_type": "code",
   "execution_count": 50,
   "id": "d2be4d82",
   "metadata": {},
   "outputs": [
    {
     "name": "stdout",
     "output_type": "stream",
     "text": [
      "1 100\n",
      "2 3 5 7 11 13 17 19 23 29 31 37 41 43 47 53 59 61 67 71 73 79 83 89 97\n",
      "1060\n",
      "25\n"
     ]
    }
   ],
   "source": [
    "def is_prime(num):\n",
    "    if num < 2:\n",
    "        return False\n",
    "    for i in range(2, int(num**0.5) + 1):\n",
    "        if num % i == 0:\n",
    "            return False\n",
    "    return True\n",
    "def solve(n, m):\n",
    "    primes = []\n",
    "    cnt = 0\n",
    "    for i in range(n, m + 1):\n",
    "        if is_prime(i):\n",
    "            primes.append(i)\n",
    "            cnt += 1\n",
    "    return ' '.join(map(str,primes)), sum(primes)\n",
    "N, M = map(int, input().split())\n",
    "res = solve(N, M)\n",
    "print(res[0])\n",
    "print(res[1])"
   ]
  },
  {
   "cell_type": "markdown",
   "id": "4d88fcab",
   "metadata": {},
   "source": [
    "# 4.23\n",
    "## Finding 'Almost Prime Numbers'\n",
    "### Description\n",
    "When a number is prime to the Nth power (N≥2), the number is said to be 'almost prime'. Given A and B, write a program that prints how many prime numbers are greater than or equal to A and less than or equal to B.\n",
    "### Input\n",
    "In the first line, A and B are given with a space between them. (1≤A≤10¹⁴, A≤B≤10¹⁴)\n",
    "### Output\n",
    "### Sample Output\n",
    "1 1000\n",
    "### Sample Output\n",
    "25"
   ]
  },
  {
   "cell_type": "markdown",
   "id": "397ac39e",
   "metadata": {},
   "source": [
    "# explaination\n",
    "Imagine that you are a farmer who specializes in growing crops that are almost perfect. Your goal is to grow crops that are almost prime, meaning that they have exactly two prime factors (not necessarily distinct).\n",
    "\n",
    "To grow almost prime crops, you need to follow a specific set of steps:\n",
    "\n",
    "Start by selecting a range of numbers to examine, represented by A and B. This range represents the field where you will plant your crops.\n",
    "Examine each number in the range one by one, starting from A and moving forward.\n",
    "For each number, check if it is almost prime. To do this, you need to find the prime factors of the number.\n",
    "Imagine that each number is a fruit that grows on a tree. To find the prime factors of the fruit, you need to cut it open and count the seeds inside. Each seed represents a prime factor.\n",
    "If you find a number that has exactly two prime factors, you have found an almost prime crop!\n",
    "Keep track of the number of almost prime crops you find as you examine each number in the range.\n",
    "When you have finished examining all the numbers in the range, return the total number of almost prime crops you found.\n",
    "Let's apply this analogy to the given problem:\n",
    "\n",
    "Given the range of numbers A=1 and B=1000 as input, you start examining each number in the range one by one, starting from 1 and moving forward.\n",
    "\n",
    "You first examine the number 1. Since 1 is not considered a prime number, it cannot be almost prime.\n",
    "Next, you examine the number 2. Since 2 is a prime number, it can be considered almost prime because it has exactly two prime factors: 2 and 1 (which is also a prime number). Therefore, you count it as an almost prime crop.\n",
    "You continue examining each number in the range, and for each number that has exactly two prime factors, you count it as an almost prime crop.\n",
    "When you have finished examining all the numbers in the range, you count up the total number of almost prime crops you found. In this case, there are 25 almost prime crops in the range from 1 to 1000."
   ]
  },
  {
   "cell_type": "code",
   "execution_count": 62,
   "id": "fab874c9",
   "metadata": {},
   "outputs": [
    {
     "name": "stdout",
     "output_type": "stream",
     "text": [
      "1 1000\n",
      "14\n"
     ]
    }
   ],
   "source": [
    "def is_prime(n):\n",
    "    if n < 2:\n",
    "        return False\n",
    "    for i in range(2, int(n**0.5) + 1):\n",
    "        if n % i == 0:\n",
    "            return False\n",
    "    return True\n",
    "\n",
    "def count_almost_prime(A, B):\n",
    "    count = 0\n",
    "    for num in range(A, B+1):\n",
    "        factors = 0\n",
    "        for i in range(2, num):\n",
    "            if num % i == 0:\n",
    "                if is_prime(i):\n",
    "                    factors += 1\n",
    "                if is_prime(num // i) and i != num // i:\n",
    "                    factors += 1\n",
    "        if factors == 2:\n",
    "            count += 1\n",
    "    return count\n",
    "\n",
    "A, B = map(int, input().split())\n",
    "result = count_almost_prime(A, B)\n",
    "print(result)\n"
   ]
  },
  {
   "cell_type": "markdown",
   "id": "82bcc2ef",
   "metadata": {},
   "source": [
    "# 4.24\n",
    "## Find 'non-square numbers'\n",
    "### Description\n",
    "When an integer X is not divisible by a square number greater than 1, the number is called a 'non-square number'. A square number is the square of an integer. Given min and max, print how many 'non-square numbers' are greater than or equal to min and less than or equal to max. And print all ‘non-square numbers’.\n",
    "### Input\n",
    "Two integers min and max are given in the first line.\n",
    "### Output\n",
    "In the first line, the number of 'non-square numbers' greater than or equal to min and less than or equal to max is output. In the second line, 'non-square numbers' are output in the form of a list.\n",
    "### Sample Output\n",
    "20 30\n",
    "### Sample Output\n",
    "6 <br>\n",
    "[21, 22, 23, 26, 29, 30]"
   ]
  },
  {
   "cell_type": "code",
   "execution_count": null,
   "id": "e9106b42",
   "metadata": {},
   "outputs": [],
   "source": []
  },
  {
   "cell_type": "markdown",
   "id": "28d0d2f3",
   "metadata": {},
   "source": [
    "# 4.25\n",
    "## Implementing Euler Phi function\n",
    "### Description\n",
    "Given a natural number n, write a program to find the number of natural numbers (1 ≤ k ≤ n) that satisfy GCD(n, k) = 1.\n",
    "### Input\n",
    "The natural number n (1 ≤ n ≤ 10¹²) is given in the first line.\n",
    "### Output\n",
    "Outputs the number of natural numbers (1 ≤ k ≤ n) that satisfy GCD(n, k) = 1.\n",
    "### Sample Output\n",
    "1234\n",
    "### Sample Output\n",
    "616"
   ]
  },
  {
   "cell_type": "code",
   "execution_count": null,
   "id": "1c5fb793",
   "metadata": {},
   "outputs": [],
   "source": []
  }
 ],
 "metadata": {
  "kernelspec": {
   "display_name": "Python 3 (ipykernel)",
   "language": "python",
   "name": "python3"
  },
  "language_info": {
   "codemirror_mode": {
    "name": "ipython",
    "version": 3
   },
   "file_extension": ".py",
   "mimetype": "text/x-python",
   "name": "python",
   "nbconvert_exporter": "python",
   "pygments_lexer": "ipython3",
   "version": "3.10.9"
  }
 },
 "nbformat": 4,
 "nbformat_minor": 5
}
