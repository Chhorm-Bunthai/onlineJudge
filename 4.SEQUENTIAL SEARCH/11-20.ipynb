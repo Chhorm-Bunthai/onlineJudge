{
 "cells": [
  {
   "cell_type": "markdown",
   "id": "1c042568",
   "metadata": {},
   "source": [
    "# 4.11\n",
    "## Subtraction\n",
    "### Description\n",
    "One day, Euler thought that turning a certain number N (1≤N≤999,999) upside down and subtracting it to the original number would produce very interesting results. When N is given as input, print the result of subtraction.\n",
    "### Input\n",
    "### Output\n",
    "### Sample Output\n",
    "321\n",
    "### Sample Output\n",
    "198"
   ]
  },
  {
   "cell_type": "code",
   "execution_count": 11,
   "id": "711db0b2",
   "metadata": {},
   "outputs": [
    {
     "name": "stdout",
     "output_type": "stream",
     "text": [
      "123\n",
      "-198\n"
     ]
    }
   ],
   "source": [
    "def solve(n):\n",
    "    return n - int(str(n)[::-1])\n",
    "N = int(input())\n",
    "print(solve(N))"
   ]
  },
  {
   "cell_type": "markdown",
   "id": "ca4b5ab1",
   "metadata": {},
   "source": [
    "# 4.12\n",
    "## Palindrome Number\n",
    "### Description\n",
    "A number that is the same whether read from the front or from the back is called a palindrome number. For example, there are a total of 9 palindrome numbers consisting of two digits: 11, 22, 33, 44, 55, 66, 77, 88, and 99. When A and B (1≤A≤B≤100,000) are given as input, write a program to find the palindrome number and the number of palindrome numbers among integers greater than or equal to A or less than or equal to B.\n",
    "### Input\n",
    "Two positive integers A, B (1≤A≤B≤100,000) are given, separated by a space.\n",
    "### Output\n",
    "In the first line, palindromic numbers greater than or equal to A to less than or equal to B are displayed, each separated by a space. In the second line, the number of palindromic numbers among the numbers in the range of greater than or equal to A to less than or equal to B are displayed.\n",
    "### Sample Output\n",
    "100 200\n",
    "### Sample Output\n",
    "100 200<br>\n",
    "101 111 121 131 141 151 161 171 181 191 <br>\n",
    "10"
   ]
  },
  {
   "cell_type": "code",
   "execution_count": 10,
   "id": "2004ee00",
   "metadata": {},
   "outputs": [
    {
     "name": "stdout",
     "output_type": "stream",
     "text": [
      "100 200\n",
      "100 200\n",
      "101 111 121 131 141 151 161 171 181 191 \n",
      "10\n"
     ]
    }
   ],
   "source": [
    "def is_palindrome(n):\n",
    "    s = str(n)\n",
    "    r = s[::-1]\n",
    "    return int(s) == int(r)\n",
    "def solve(a, b):\n",
    "    lst = []\n",
    "    for i in range(a, b+1):\n",
    "        if is_palindrome(i):\n",
    "            lst.append(i)\n",
    "    return lst\n",
    "A, B = map(int, input().split())\n",
    "print(A, B)\n",
    "res = solve(A, B)\n",
    "for i in res:\n",
    "    print(int(i), end = ' ')\n",
    "print()\n",
    "print(len(res))"
   ]
  },
  {
   "cell_type": "markdown",
   "id": "050261aa",
   "metadata": {},
   "source": [
    "# 4.13\n",
    "## Twin Primes\n",
    "### Description\n",
    "Among prime numbers, there are numbers whose difference is 2, such as 3 and 5, 11 and 13, and 17 and 19. Numbers whose difference is 2 are called twin primes. Find twin primes between 1 and 100 using the Sieve of Eratosthenes.\n",
    "### Input\n",
    "### Output\n",
    "Print the pairs of twin primes greater than 1 or equal to 100 on each line. In a pair of twin prime numbers, print the larger number on the left, separate it with a space, and print the smaller number on the right. Pairs of twin primes of 1 or more and 100 or less are printed on each line in order of the first number from small to large.\n",
    "### Sample input\n",
    "### Sample Output\n",
    "5 3 <br>\n",
    "7 5 <br>\n",
    "13 11<br>\n",
    "19 17<br>\n",
    "31 29<br>\n",
    "43 41<br>\n",
    "61 59<br>\n",
    "73 71"
   ]
  },
  {
   "cell_type": "code",
   "execution_count": 16,
   "id": "640c1f68",
   "metadata": {},
   "outputs": [
    {
     "name": "stdout",
     "output_type": "stream",
     "text": [
      "5 3\n",
      "7 5\n",
      "13 11\n",
      "19 17\n",
      "31 29\n",
      "43 41\n",
      "61 59\n",
      "73 71\n"
     ]
    }
   ],
   "source": [
    "def sieve_of_eratosthenes(limit):\n",
    "    primes = [True] * (limit + 1)\n",
    "    primes[0] = primes[1] = False\n",
    "\n",
    "    for i in range(2, int(limit**0.5) + 1):\n",
    "        if primes[i]:\n",
    "            for j in range(i**2, limit + 1, i):\n",
    "                primes[j] = False\n",
    "\n",
    "    return [num for num in range(2, limit + 1) if primes[num]]\n",
    "def find_twin_primes(primes):\n",
    "    twin_primes = []\n",
    "    for i in range(len(primes) - 1):\n",
    "        if primes[i + 1] - primes[i] == 2:\n",
    "            twin_primes.append((primes[i + 1], primes[i]))\n",
    "    return twin_primes\n",
    "prime_numbers = sieve_of_eratosthenes(100)\n",
    "twin_prime_pairs = find_twin_primes(prime_numbers)\n",
    "for pair in twin_prime_pairs:\n",
    "    print(f\"{pair[0]} {pair[1]}\")\n"
   ]
  },
  {
   "cell_type": "markdown",
   "id": "4b4d4728",
   "metadata": {},
   "source": [
    "# 4.14\n",
    "## The Goldbach’s Conjecture(2)\n",
    "### Description\n",
    "There are still many difficult problems that remain unresolved in the current mathematics world. One of these is Goldbach’s Conjecture. This is Goldbach's guess that was written in a letter to mathematician Euler. “Every even number greater than 2 can be written as the sum of two prime numbers.”\n",
    "\n",
    "As many mathematicians have not been able to do so far, it proves how quite difficult it is. However, even if we cannot prove this, those of us who use computers that provide amazing calculation speeds can prove it by directly finding the answer to a given example. In other words, if someone asks if the even number 14 can be expressed as the sum of two prime numbers, we can just give the answer of 3 + 11. Given an even number N greater than 2 (2≤N≤30,000), let's write a program that prints the two prime numbers that can form this number.\n",
    "### Input\n",
    "### Output\n",
    "Two prime numbers a and b whose sum is N are output in turn. a is always a number less than or equal to b, and if there are multiple answers, they are all printed. If a is small, it is output first, and it is output one per line. The last line outputs the count.\n",
    "### Sample input\n",
    "32\n",
    "### Sample Output\n",
    "3 29 <br>\n",
    "13 19 <br>\n",
    "2"
   ]
  },
  {
   "cell_type": "code",
   "execution_count": 21,
   "id": "0e151837",
   "metadata": {},
   "outputs": [
    {
     "name": "stdout",
     "output_type": "stream",
     "text": [
      "[(3, 29), (13, 19), (13, 19), (3, 29)] result\n",
      "3 29\n",
      "13 19\n",
      "13 19\n",
      "3 29\n",
      "4\n"
     ]
    }
   ],
   "source": [
    "def sieve_of_eratosthenes(limit):\n",
    "    primes = [True] * (limit + 1)\n",
    "    primes[0] = primes[1] = False  # 0 and 1 are not prime numbers\n",
    "\n",
    "    for i in range(2, int(limit**0.5) + 1):\n",
    "        if primes[i]:\n",
    "            for j in range(i**2, limit + 1, i):\n",
    "                primes[j] = False\n",
    "\n",
    "    return [num for num in range(2, limit + 1) if primes[num]]\n",
    "\n",
    "\n",
    "def goldbach_conjecture(N):\n",
    "    primes = sieve_of_eratosthenes(N)\n",
    "    result = []\n",
    "\n",
    "    for prime in primes:\n",
    "        complement = N - prime\n",
    "        if complement in primes:\n",
    "            result.append((min(prime, complement), max(prime, complement)))\n",
    "    print(result,'result')\n",
    "    return result\n",
    "\n",
    "\n",
    "# Example usage:\n",
    "N = 32\n",
    "result = goldbach_conjecture(N)\n",
    "\n",
    "# Print the result\n",
    "for pair in result:\n",
    "    print(f\"{pair[0]} {pair[1]}\")\n",
    "\n",
    "# Print the count\n",
    "print(len(result))\n"
   ]
  },
  {
   "cell_type": "code",
   "execution_count": null,
   "id": "8b0d0371",
   "metadata": {},
   "outputs": [],
   "source": []
  }
 ],
 "metadata": {
  "kernelspec": {
   "display_name": "Python 3 (ipykernel)",
   "language": "python",
   "name": "python3"
  },
  "language_info": {
   "codemirror_mode": {
    "name": "ipython",
    "version": 3
   },
   "file_extension": ".py",
   "mimetype": "text/x-python",
   "name": "python",
   "nbconvert_exporter": "python",
   "pygments_lexer": "ipython3",
   "version": "3.10.9"
  }
 },
 "nbformat": 4,
 "nbformat_minor": 5
}
