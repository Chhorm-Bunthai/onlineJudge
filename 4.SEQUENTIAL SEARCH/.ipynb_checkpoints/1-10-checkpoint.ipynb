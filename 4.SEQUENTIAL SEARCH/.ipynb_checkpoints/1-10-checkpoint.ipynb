{
 "cells": [
  {
   "cell_type": "markdown",
   "id": "c8ccb64b",
   "metadata": {},
   "source": [
    "# 4.01\n",
    "## Find Position Index of x[i]\n",
    "### Description\n",
    "As shown in the code below, randomly generate lists S and X with N integers.\n",
    "\n",
    "\n",
    "import random\n",
    "\n",
    "SEED, MIN, MAX, N = 2022, 10, 30, 10\n",
    "\n",
    "random.seed(SEED)\n",
    "\n",
    "S = random.sample(range(MIN, MAX), N)\n",
    "\n",
    "X = random.sample(range(MIN, MAX), N)\n",
    "\n",
    "For each element x[i] in list X, print the position index of x[i] in list S. If x[i] does not exist in list S, print -1.\n",
    "\n",
    "For example, if S and X is given below:\n",
    "\n",
    "\n",
    "S = [2, 8, 7, 3, 1]\n",
    "\n",
    "X = [1, 3, 6, 5, 2]\n",
    "\n",
    "The index for each element of X in S is as follows.\n",
    "\n",
    "4 3 -1 -1 0\n",
    "### Input\n",
    "In the first line, SEED, MIN, MAX, and N, which can randomly generate S and X, are given.\n",
    "### Output\n",
    "In the first line, the index of each element of X in S is output in turn.\n",
    "If an element of X does not exist in S, -1 is output.\n",
    "### Sample Output\n",
    "2022 10 30 10\n",
    "### Sample Output\n",
    "-1 -1 8 1 2 5 0 -1 -1 3"
   ]
  },
  {
   "cell_type": "code",
   "execution_count": 4,
   "id": "8d24b239",
   "metadata": {},
   "outputs": [
    {
     "name": "stdout",
     "output_type": "stream",
     "text": [
      "-1 -1 8 1 2 5 0 -1 -1 3 "
     ]
    }
   ],
   "source": [
    "import random\n",
    "\n",
    "SEED, MIN, MAX, N = 2022, 10, 30, 10\n",
    "\n",
    "random.seed(SEED)\n",
    "\n",
    "S = random.sample(range(MIN, MAX), N)\n",
    "\n",
    "X = random.sample(range(MIN, MAX), N)\n",
    "\n",
    "for i in range(len(X)):\n",
    "    if X[i] in S:\n",
    "        print(S.index(X[i]), end = ' ')\n",
    "    else:\n",
    "        print(-1, end = ' ')"
   ]
  },
  {
   "cell_type": "markdown",
   "id": "1124abe9",
   "metadata": {},
   "source": [
    "# 4.02\n",
    "## Hexadecimal Palindrome\n",
    "### Description\n",
    "Hexadecimal palindrome refers to a number that becomes a palindrome when a positive integer is expressed in hexadecimal.\n",
    "\n",
    "For example, the hexadecimal representation of 289 and 43962 is 121 and ABBA, so it is a hexadecimal palindrome. On the other hand, the hexadecimal representation of 291 and 43981 is 123 and ABCD, so it is not a hexadecimal palindrome.\n",
    "\n",
    "Given N positive integers, print the number of hexadecimal palindromes.\n",
    "### Input\n",
    "In the first line, a positive integer N is given.\n",
    "The second line gives N positive integers.\n",
    "### Output\n",
    "The first line prints the number of hexadecimal palindromes among N positive integers.\n",
    "### Sample Output\n",
    "7 <br>\n",
    "3903 4090 1991 801 1365 899 55709\n",
    "### Sample Output\n",
    "5"
   ]
  },
  {
   "cell_type": "code",
   "execution_count": 12,
   "id": "f4babeeb",
   "metadata": {},
   "outputs": [
    {
     "name": "stdout",
     "output_type": "stream",
     "text": [
      "7\n",
      "3903 4090 1991 801 1365 899 55709\n",
      "5\n"
     ]
    }
   ],
   "source": [
    "def is_hex_palindrome(decimal_number):\n",
    "    hex_number = hex(decimal_number)[2:]\n",
    "    return hex_number == hex_number[::-1]\n",
    "\n",
    "def cnt_hex_palindromes(numbers):\n",
    "    cnt = 0\n",
    "    for n in numbers:\n",
    "        if is_hex_palindrome(n):\n",
    "            cnt += 1\n",
    "    return cnt\n",
    "\n",
    "N = int(input())\n",
    "M = list(map(int, input().split()))\n",
    "result = cnt_hex_palindromes(M)\n",
    "print(result)"
   ]
  },
  {
   "cell_type": "markdown",
   "id": "857815a6",
   "metadata": {},
   "source": [
    "# 4.03\n",
    "## The number of Palindromes\n",
    "### Description\n",
    "Given positive integers N and M, among numbers greater than or equal to N and less than or equal to M, print the number of palindromes in which the sum of each digit is a prime number.\n",
    "### Input\n",
    "The first line is given positive integers N and M.\n",
    "### Output\n",
    "Outputs the number of palindromes of which the sum of each digit is prime among the numbers greater than or equal to N and less than or equal to M.\n",
    "### Sample Output\n",
    "1 100\n",
    "### Sample Output\n",
    "5"
   ]
  },
  {
   "cell_type": "code",
   "execution_count": 14,
   "id": "982fb097",
   "metadata": {},
   "outputs": [
    {
     "name": "stdout",
     "output_type": "stream",
     "text": [
      "1 100\n",
      "5\n"
     ]
    }
   ],
   "source": [
    "def is_palindrome(n):\n",
    "    s = str(n)\n",
    "    r = s[::-1]\n",
    "    return int(s) == int(r)\n",
    "\n",
    "def is_prime(num):\n",
    "    if num < 2:\n",
    "        return False\n",
    "    for i in range(2, int(num**0.5) + 1):\n",
    "        if num % i == 0:\n",
    "            return False\n",
    "    return True\n",
    "\n",
    "def solve(n, m):\n",
    "    cnt = 0\n",
    "    for i in range(n, m + 1):\n",
    "        if is_palindrome(i):\n",
    "            digit_sum = sum(map(int, str(i)))\n",
    "            if is_prime(digit_sum):\n",
    "                cnt += 1\n",
    "    return cnt\n",
    "N, M = map(int, input().split())\n",
    "print(solve(N,M))"
   ]
  },
  {
   "cell_type": "markdown",
   "id": "c2da610a",
   "metadata": {},
   "source": [
    "# 4.04\n",
    "## A Number whose Prime Factors are Prime\n",
    "### Description\n",
    "Given positive integers N and M, print the number of numbers that are greater than or equal to N and less than or equal to M, but whose prime factors are prime.\n",
    "\n",
    "However, N and M are numbers less than or equal to 10,000.\n",
    "### Input\n",
    "\n",
    "### Output\n",
    "\n",
    "### Sample Output\n",
    "1 10\n",
    "### Sample Output\n",
    "5"
   ]
  },
  {
   "cell_type": "code",
   "execution_count": 10,
   "id": "e82867ba",
   "metadata": {},
   "outputs": [
    {
     "name": "stdout",
     "output_type": "stream",
     "text": [
      "1 10\n",
      "5\n"
     ]
    }
   ],
   "source": [
    "def is_prime(n):\n",
    "    if n < 2:\n",
    "        return False\n",
    "    for i in range(2, int(n ** 0.5) + 1):\n",
    "        if n % i == 0:\n",
    "            return False\n",
    "    return True\n",
    "\n",
    "def has_prime_factors(n):\n",
    "    for i in range(2, n):\n",
    "        if n % i == 0 and is_prime(i):\n",
    "            return True\n",
    "    return False\n",
    "\n",
    "def solve(n, m):\n",
    "    count = 0\n",
    "    for i in range(n, m+1):\n",
    "        if not has_prime_factors(i):\n",
    "            count += 1\n",
    "    return count\n",
    "N, M = map(int, input().split())\n",
    "print(solve(N, M))\n"
   ]
  },
  {
   "cell_type": "markdown",
   "id": "f4eb904a",
   "metadata": {},
   "source": [
    "# 4.05\n",
    "## A Number whose Prime Factors are Prime(2)\n",
    "### Description\n",
    "importrandom\n",
    "def generate(SEED, MIN, MAX, N):\n",
    "random.seed(SEED)\n",
    "return random.sample(range(MIN, MAX), N)\n",
    "\n",
    "SEED, MIN, MAX, N=2022,10,100,15\n",
    "S=generate(SEED, MIN, MAX, N)\n",
    "print(S)\n",
    "\n",
    "[78, 46, 66, 79, 49, 84, 17, 76, 98, 62, 97, 91, 50, 11, 65]\n",
    "\n",
    "\n",
    "-\n",
    "\n",
    "Given a list S of integers composed of N integers, print the number of elements in S whose prime factors are prime. In this problem, N can be given a very large value, and the element value of S can also be given a very large value. Therefore, since the general prime factorization method takes too long, prime factorization using the Sieve of Eratosthenes method must be used.\n",
    "\n",
    "A list of random integers S can be generated using the following code. Using the seed() and sample() functions of Python's random module, you can generate random integers with certain rules.\n",
    "\n",
    "\n",
    "import random\n",
    "\n",
    "def generate(SEED, MIN, MAX, N):\n",
    "\n",
    "random.seed(SEED)\n",
    "\n",
    "return random.sample(range(MIN, MAX), N)\n",
    "\n",
    "SEED, MIN, MAX, N=2022,10,100,15\n",
    "\n",
    "S=generate(SEED, MIN, MAX, N)\n",
    "\n",
    "print(S)\n",
    "\n",
    "[78, 46, 66, 79, 49, 84, 17, 76, 98, 62, 97, 91, 50, 11, 65]\n",
    "### Input\n",
    "In the first line, SEED, MIN, MAX, and N, which will generate the integer list S, are given in order.\n",
    "### Output\n",
    "The first line prints the number of numbers whose prime factors are prime in the integer list S.\n",
    "### Sample Output\n",
    "2022 10 100 15\n",
    "### Sample Output\n",
    "10"
   ]
  },
  {
   "cell_type": "code",
   "execution_count": null,
   "id": "7a169a89",
   "metadata": {},
   "outputs": [],
   "source": []
  },
  {
   "cell_type": "markdown",
   "id": "73f3f8d4",
   "metadata": {},
   "source": [
    "# 4.06\n",
    "## The Sieve of Eratosthenes\n",
    "### Description\n",
    "> def find_primes(n):\n",
    "sieve=[0,0]+[1]*(n-1)\n",
    "for i in range(2, int(n**0.5)+1):\n",
    "if sieve[i]==1:\n",
    "for j in range(i*i, n+1, i):\n",
    "sieve[j]=0\n",
    "return sieve\n",
    "\n",
    "Given positive integers N and K, print the Kth number to be erased from the Sieve of Eratosthenes. If K is greater than the number to be erased, output 0.\n",
    "\n",
    "However, a number that has already been erased by another number is not counted as a number being erased.\n",
    "\n",
    "For example, in the case of N=15, K=8, the erasing order is as follows.\n",
    "\n",
    "4 6 8 10 12 14 9 15\n",
    "\n",
    "Following the example given above, 12 has already been erased by 2, so it is not counted as a number erased by 3. Therefore, the 8th number to be erased is 15.\n",
    "### Input\n",
    "In the first line, a positive integer N, K, is given.1≤K<N≤10000\n",
    "### Output\n",
    "Prints the K-th erased number on the first line.\n",
    "If K is greater than the number to be erased, 0 is output.\n",
    "### Sample Output\n",
    "10 7\n",
    "### Sample Output\n",
    "0"
   ]
  },
  {
   "cell_type": "markdown",
   "id": "6d256ca9",
   "metadata": {},
   "source": [
    "# Explaination\n",
    "Imagine you are organizing a party and you have a list of guests. However, you want to filter out some guests based on certain criteria. In this case, the Sieve of Eratosthenes is like your method of filtering out guests who don't meet the criteria.\n",
    "\n",
    "Let's say you have a list of positive integers representing your guests' ages. The Sieve of Eratosthenes algorithm helps you identify which guests should be \"erased\" or removed from the list based on a specific rule.\n",
    "\n",
    "To apply the Sieve of Eratosthenes, you start by assuming that all guests are potential candidates and mark them as \"eligible\" by default. Then, you iterate through the list, starting from the first eligible guest (number 2), and follow a specific rule to determine if they should be erased or not.\n",
    "\n",
    "Here's how it works:\n",
    "\n",
    "Imagine each guest as a number written on a name tag.\n",
    "You start with the first eligible guest (number 2) and keep them in the guest list.\n",
    "Now, you go to each subsequent guest (number 3, 4, 5, and so on) and check if they have already been erased by another guest.\n",
    "If a guest has not been erased yet, you keep them in the guest list and proceed to erase all their multiples.\n",
    "For example, if guest number 2 is still in the list, you erase all the multiples of 2 (4, 6, 8, and so on) from the list since they have already been \"erased\" by guest number 2.\n",
    "Then, you move to the next eligible guest (number 3) and repeat the process. If they haven't been erased yet, you keep them in the list and erase their multiples.\n",
    "You continue this process until you reach the end of the list or until you have erased enough guests based on your criteria.\n",
    "In the given problem, you are asked to find the Kth number to be erased from the guest list. You start applying the Sieve of Eratosthenes algorithm until you have erased K numbers. If K is greater than the number of erased guests, you output 0.\n",
    "\n",
    "For example, if N is 15 and K is 8, you follow the erasing order: 4, 6, 8, 10, 12, 14, 9, 15. Here, guest number 12 has already been erased by guest number 2, so it is not counted as a number erased by guest number 3. Therefore, the 8th number to be erased is 15.\n",
    "\n",
    "To solve this problem using code, you can use the provided code snippet as a starting point. The find_primes function implements the Sieve of Eratosthenes algorithm by creating a sieve list where eligible numbers are marked as 1 and non-eligible numbers are marked as 0. Then, it iterates through the sieve list to find Kth erased number.\n",
    "\n",
    "You can call this function with your desired values of N and K to find the Kth erased number. If K is greater than the number of erased guests, it will return 0.\n",
    "\n",
    "I hope this analogy helps you understand how the Sieve of Eratosthenes works and how it can be applied to solve your problem!"
   ]
  },
  {
   "cell_type": "code",
   "execution_count": 18,
   "id": "9ceba450",
   "metadata": {},
   "outputs": [
    {
     "name": "stdout",
     "output_type": "stream",
     "text": [
      "10 7\n",
      "[0, 0, 1, 1, 0, 1, 0, 1, 0, 0, 0]\n",
      "0\n"
     ]
    }
   ],
   "source": [
    "def find_primes(n):\n",
    "    sieve = [0, 0] + [1] * (n - 1)\n",
    "    for i in range(2, int(n**0.5) + 1):\n",
    "        if sieve[i] == 1:\n",
    "            for j in range(i*i, n + 1, i):\n",
    "                sieve[j] = 0\n",
    "    print(sieve)\n",
    "    return sieve\n",
    "\n",
    "def solve(N, K):\n",
    "    primes = find_primes(N)\n",
    "    erased_count = 0\n",
    "    for num in range(2, N + 1):\n",
    "        if primes[num] == 1:\n",
    "            erased_count += 1\n",
    "            if erased_count == K:\n",
    "                return num\n",
    "    return 0\n",
    "\n",
    "N, K = map(int, input().split())\n",
    "erased_number = solve(N, K)\n",
    "print(erased_number)\n"
   ]
  },
  {
   "cell_type": "markdown",
   "id": "6530c680",
   "metadata": {},
   "source": [
    "# 4.07\n",
    "## The Goldbach Conjecture\n",
    "### Description\n",
    "Mathematician Goldbach made the following conjecture.\n",
    "\n",
    "Goldbach's Conjecture: Any even integer greater than 2 can be expressed as the sum of two prime numbers.\n",
    "\n",
    "\n",
    "Weak Goldbach's Conjecture: Any odd integer greater than 5 can be expressed as the sum of three prime numbers.\n",
    "\n",
    "According to Goldbach's weak conjecture, any odd number greater than 5 can be expressed as the sum of three prime numbers. At this time, if a triangle can be created with these three prime numbers, let's call this triangle a Goldbach triangle.\n",
    "\n",
    "For example, if N = 7, N = 2 + 2 + 3, then N can be expressed as the sum of three prime numbers (2, 2, 3). Therefore, we can create a Goldbach triangle with three sides of 2, 2, and 3, respectively.\n",
    "\n",
    "However, if N = 9, N = 2 + 2 + 5, it can be expressed as three prime numbers (2, 2, 5). However, since a triangle cannot be created with numbers whose three sides are 2, 2, and 5, respectively, a Goldbach triangle cannot be created. Instead, since N = 3 + 3 + 3, we can create a Goldbach triangle with sides of 3, 3, and 3, respectively.\n",
    "\n",
    "Given N random odd numbers greater than 5, print the number of different Goldbach triangles that can be created. In other words, when 7 = 2 + 2 + 3, (2, 2, 3) and (3, 2, 2) are the same combination, they are counted as one.\n",
    "\n",
    "### Input\n",
    "In the first line, a positive integer N is given.\n",
    "In the second line, N odd numbers M greater than 5 and less than 10,000 are given.\n",
    "\n",
    "5<M<10,000, M%2=1\n",
    "### Output\n",
    "Prints the number of Goldbach triangles that can be created with the odd number given in the first line.\n",
    "### Sample Output\n",
    "5 7 9 11 13 15\n",
    "### Sample Output\n",
    "1 1 1 1 2"
   ]
  },
  {
   "cell_type": "markdown",
   "id": "b9df140b",
   "metadata": {},
   "source": [
    "# Question explanation\n",
    "magine you are a treasure hunter, and you have a special map that leads you to hidden treasures. However, this map comes with a rule: to find the treasure, you need to combine the powers of two other treasure hunters.\n",
    "\n",
    "The Goldbach Conjecture is similar to this treasure hunt. It suggests that any even number greater than 2 can be expressed as the sum of two prime numbers. For example, if the even number is 10, you can find the treasure by combining the powers of two prime numbers, such as 3 and 7.\n",
    "\n",
    "Now, let's talk about the Weak Goldbach Conjecture. It states that any odd number greater than 5 can be expressed as the sum of three prime numbers. In our treasure hunting analogy, this means that to find the treasure for an odd number, you need the combined powers of three prime number hunters.\n",
    "\n",
    "For instance, if the odd number is 9, you can still find the treasure by combining the powers of three prime number hunters, like 3, 3, and 3. However, not all odd numbers can form a \"Goldbach triangle,\" which is our term for a valid combination of three prime numbers that forms a triangle. For example, with the odd number 9, although you can combine the powers of prime number hunters 2, 2, and 5, they cannot form a triangle. But don't worry, you can still form a Goldbach triangle with three prime number hunters who all have a power of 3.\n",
    "\n",
    "Now, imagine you have a list of odd numbers greater than 5. Your task is to count how many different Goldbach triangles you can form with these odd numbers. Remember, we count them as one even if they have the same combination of prime number hunters.\n",
    "\n",
    "To solve this problem, we can use an algorithm called the Sieve of Eratosthenes. It's like having a magical device that helps us quickly identify all prime number hunters up to a certain limit.\n",
    "\n",
    "First, we create a list of potential prime number hunters and mark them all as \"potential primes.\" Then we start from the first potential prime number hunter and check if they are still marked as \"potential primes.\" If they are, we know they are prime number hunters and can add them to our list of confirmed prime number hunters. We also mark all their multiples as \"not prime\" since they are already claimed by the confirmed prime number hunters.\n",
    "\n",
    "Once we finish this process for all potential prime number hunters, we have our list of confirmed prime number hunters up to a certain limit.\n",
    "\n",
    "Next, we iterate through our list of odd numbers and check for all possible combinations of three prime number hunters. If their sum equals the given odd number and they can form a triangle, we count it as one Goldbach triangle.\n",
    "\n",
    "Finally, we return the total count of different Goldbach triangles we found.\n",
    "\n",
    "I hope this analogy helps you understand the problem and how to solve it using the Sieve of Eratosthenes algorithm!"
   ]
  },
  {
   "cell_type": "code",
   "execution_count": null,
   "id": "7a9c2f6f",
   "metadata": {},
   "outputs": [],
   "source": []
  },
  {
   "cell_type": "markdown",
   "id": "a6fdbb1f",
   "metadata": {},
   "source": [
    "# 4.08\n",
    "## Find the sum of the integers from A to B\n",
    "### Description\n",
    "Given two positive integers A and B (1≤A≤B≤10,000) separated by a space, write a program to find the total of the integers from A to B whose ones digit is 9.\n",
    "### Input\n",
    "### Output\n",
    "\n",
    "### Sample Output\n",
    "10 5000\n",
    "### Sample Output\n",
    "1251991"
   ]
  },
  {
   "cell_type": "code",
   "execution_count": 29,
   "id": "51023483",
   "metadata": {},
   "outputs": [
    {
     "name": "stdout",
     "output_type": "stream",
     "text": [
      "10 5000\n",
      "1251991\n"
     ]
    }
   ],
   "source": [
    "def solve(a, b):\n",
    "    total = 0\n",
    "    for number in range(A, B + 1):\n",
    "        if number % 10 == 9:\n",
    "            total += number\n",
    "    return total\n",
    "A, B = map(int, input().split())\n",
    "print(solve(A, B))\n"
   ]
  },
  {
   "cell_type": "markdown",
   "id": "1aa6e990",
   "metadata": {},
   "source": [
    "# 4.09\n",
    "## Find the sum of the integers from A to B(2)\n",
    "### Description\n",
    "Given two positive integers A and B (10≤A≤B≤10,000) separated by a space, write a program to find the total of the integers from A to B whose tens digit is 5.\n",
    "### Input\n",
    "### Output\n",
    "\n",
    "### Sample Output\n",
    "50 50000\n",
    "### Sample Output\n",
    "125022500"
   ]
  },
  {
   "cell_type": "code",
   "execution_count": 39,
   "id": "51438bfe",
   "metadata": {},
   "outputs": [
    {
     "name": "stdout",
     "output_type": "stream",
     "text": [
      "50 50000\n",
      "125022500\n"
     ]
    }
   ],
   "source": [
    "def solve(A, B):\n",
    "    total = 0\n",
    "    for num in range(A, B + 1):\n",
    "        tens_digit = (num // 10) % 10\n",
    "        if tens_digit == 5:\n",
    "            total += num\n",
    "    return total\n",
    "A, B = map(int, input().split())\n",
    "result = solve(A, B)\n",
    "print(result)\n"
   ]
  },
  {
   "cell_type": "markdown",
   "id": "537d65f3",
   "metadata": {},
   "source": [
    "# 4.10\n",
    "## Flipping Numbers\n",
    "### Description\n",
    "Euler has a younger brother who has just started school, and he is having some trouble reading numbers. To help Euler's younger brother, the teacher wrote two three-digit positive integers on the blackboard. Then he asked Euler's younger brother which number was larger. However, he does not read the numbers starting from the leftmost digit. He read the numbers from the rightmost digit to the left. And he proudly told the teacher the largest number of the two. Find the number that Euler's brother said.\n",
    "### Input\n",
    "In the first line, the three-digit positive integers A and B are given, which the teacher wrote on the blackboard. A and B are not the same number, and they never contain 0 in each position.\n",
    "### Output\n",
    "Print the largest number Euler's brother thought of on the first line. Because Euler's brother reads the numbers backwards, we have to print the maximum value thinking from Euler's brother's perspective.\n",
    "### Sample Output\n",
    "221 231\n",
    "### Sample Output\n",
    "132"
   ]
  },
  {
   "cell_type": "code",
   "execution_count": 48,
   "id": "4a71f443",
   "metadata": {},
   "outputs": [
    {
     "name": "stdout",
     "output_type": "stream",
     "text": [
      "451 231\n",
      "154\n"
     ]
    }
   ],
   "source": [
    "def solve(a, b):\n",
    "    a_reversed = int(a[::-1])\n",
    "    b_reversed = int(b[::-1])\n",
    "    res = max(a_reversed, b_reversed)\n",
    "    return res\n",
    "A, B = map(str, input().split())\n",
    "print(solve(A, B))"
   ]
  },
  {
   "cell_type": "code",
   "execution_count": null,
   "id": "cce0aa73",
   "metadata": {},
   "outputs": [],
   "source": []
  }
 ],
 "metadata": {
  "kernelspec": {
   "display_name": "Python 3 (ipykernel)",
   "language": "python",
   "name": "python3"
  },
  "language_info": {
   "codemirror_mode": {
    "name": "ipython",
    "version": 3
   },
   "file_extension": ".py",
   "mimetype": "text/x-python",
   "name": "python",
   "nbconvert_exporter": "python",
   "pygments_lexer": "ipython3",
   "version": "3.10.9"
  }
 },
 "nbformat": 4,
 "nbformat_minor": 5
}
