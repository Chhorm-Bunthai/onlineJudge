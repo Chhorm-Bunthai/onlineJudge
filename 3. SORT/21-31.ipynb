{
 "cells": [
  {
   "cell_type": "markdown",
   "id": "4d0f98b6",
   "metadata": {},
   "source": [
    "# 3.21\n",
    "## Sorting numbers (1)\n",
    "### Description\n",
    "Given N numbers, write a program to sort them in ascending order using the bubble sort algorithm.\n",
    "### Input\n",
    "- In the first line, the number N (1 ≤ N ≤ 1,000) is given. Starting from the second line, N lines are given numbers. This number is an integer whose absolute value is less than or equal to 1,000. The numbers do not overlap.\n",
    "### Output\n",
    "- Output the results sorted in ascending order on N lines starting from the first line, one per line.\n",
    "### Sample Output\n",
    "4<br>\n",
    "32<br>\n",
    "14<br>\n",
    "54<br>\n",
    "44\n",
    "### Sample Output\n",
    "14<br>\n",
    "32<br>\n",
    "44<br>\n",
    "54"
   ]
  },
  {
   "cell_type": "code",
   "execution_count": 20,
   "id": "99c35e8e",
   "metadata": {},
   "outputs": [
    {
     "name": "stdout",
     "output_type": "stream",
     "text": [
      "4\n",
      "32\n",
      "14\n",
      "54\n",
      "44\n",
      "14\n",
      "32\n",
      "44\n",
      "54\n"
     ]
    }
   ],
   "source": [
    "def bubblesort(n, s):\n",
    "    for i in range(n-1):\n",
    "        for j in range(n - 1 - i):\n",
    "            if s[j] > s[j + 1]:\n",
    "                s[j], s[j + 1] = s[j + 1], s[j]\n",
    "    return s\n",
    "N = int(input())\n",
    "S = [int(input()) for _ in range(N)]\n",
    "sortedArr = bubblesort(N, S)\n",
    "for i in sortedArr:\n",
    "    print(i)"
   ]
  },
  {
   "cell_type": "code",
   "execution_count": null,
   "id": "36bfc17f",
   "metadata": {},
   "outputs": [],
   "source": [
    "def bubble_sort(arr):\n",
    "    n = len(arr)\n",
    "    for i in range(n):\n",
    "        for j in range(0, n-i-1):\n",
    "            if arr[j] > arr[j+1]:\n",
    "                arr[j], arr[j+1] = arr[j+1], arr[j]\n",
    "    return arr\n",
    "\n",
    "# Test the implementation with an example list\n",
    "arr = [64, 34, 25, 12, 22, 11, 90]\n",
    "print(\"Before sorting: \", arr)\n",
    "arr = bubble_sort(arr)\n",
    "print(\"After sorting: \", arr)"
   ]
  },
  {
   "cell_type": "markdown",
   "id": "75fb53b3",
   "metadata": {},
   "source": [
    "# 3.22\n",
    "## Bubble sort program (1)\n",
    "### Description\n",
    "The bubble sort algorithm is written in C++ as follows.\n",
    "\n",
    ">bool changed = false;\n",
    "for (int i=1; i<=N+1; i++) {\n",
    "    changed = false;\n",
    "    for (int j=1; j<=N-i; j++) {\n",
    "        if (A[j] > A[j+1]) {\n",
    "            changed = true;\n",
    "            swap(A[j], A[j+1]);\n",
    "        }\n",
    "    }\n",
    "    if (changed == false) {\n",
    "        cout << i << '\\n';\n",
    "        break;\n",
    "    }\n",
    "}\n",
    "\n",
    "In the above source, N is the size of the array, and A is the array that needs to be sorted. Arrays are used starting from A[1].\n",
    "\n",
    "Find out what value is output when the above source is executed.\n",
    "### Input\n",
    "N is given in the first line. N is a natural number less than or equal to 500,000. Starting from the second line, N lines are given one by one from A[1] to A[N]. The number in A is a natural number less than or equal to 1,000,000 or 0.\n",
    "### Output\n",
    "Print the correct answer.\n",
    "### Sample Output\n",
    "5<br>\n",
    "15<br>\n",
    "10<br>\n",
    "11<br>\n",
    "7<br>\n",
    "24\n",
    "### Sample Output\n",
    "4"
   ]
  },
  {
   "cell_type": "code",
   "execution_count": 2,
   "id": "f6bb8369",
   "metadata": {},
   "outputs": [
    {
     "name": "stdout",
     "output_type": "stream",
     "text": [
      "5\n",
      "15\n",
      "10\n",
      "11\n",
      "7\n",
      "24\n",
      "4\n"
     ]
    }
   ],
   "source": [
    "def bubble_sort_passes(arr):\n",
    "    n = len(arr)\n",
    "    passes = 0\n",
    "    for i in range(n):\n",
    "        changed = False\n",
    "        for j in range(0, n - i - 1):\n",
    "            if arr[j] > arr[j + 1]:\n",
    "                arr[j], arr[j + 1] = arr[j + 1], arr[j]\n",
    "                changed = True\n",
    "        passes += 1\n",
    "        if not changed:\n",
    "            break\n",
    "    return passes\n",
    "\n",
    "# Example usage:\n",
    "N = int(input())\n",
    "A = [int(input()) for _ in range(N)]\n",
    "\n",
    "result = bubble_sort_passes(A)\n",
    "print(result)\n"
   ]
  },
  {
   "cell_type": "markdown",
   "id": "53c7a39b",
   "metadata": {},
   "source": [
    "# 3.23\n",
    "## Sort digits in descending order\n",
    "### Description\n",
    "Sorting an array is easy. Given a number, sort each digit of the number in descending order.\n",
    "### Input\n",
    "In the first line, the number N to be sorted is given. N is a natural number less than or equal to 1,000,000,000.\n",
    "### Output\n",
    "Prints the numbers sorted in descending order of digits on the first line.\n",
    "### Sample Output\n",
    "1342356\n",
    "### Sample Output\n",
    "6543321"
   ]
  },
  {
   "cell_type": "code",
   "execution_count": 22,
   "id": "5f859151",
   "metadata": {},
   "outputs": [
    {
     "name": "stdout",
     "output_type": "stream",
     "text": [
      "1342356\n",
      "6543321\n"
     ]
    }
   ],
   "source": [
    "N = input()\n",
    "lst = [int(i) for i in N]\n",
    "lst.sort(reverse = True)\n",
    "print(''.join(map(str,lst)))"
   ]
  },
  {
   "cell_type": "markdown",
   "id": "b1ecc322",
   "metadata": {},
   "source": [
    "# 3.24\n",
    "## Calculate ATM withdrawal time\n",
    "### Description\n",
    "A certain bank has only one ATM. Right now, N people are standing in line in front of this ATM. People are numbered from 1 to N, and the time it takes for personito withdraw money inPᵢminutes.\n",
    "\n",
    "Depending on the order in which people line up, the total time required to withdraw money varies. For example, consider the case where there are a total of 5 people, and P₁ = 3, P₂ = 1, P₃ = 4, P₄ = 3, and P₅ = 2. If people line up in the order [1, 2, 3, 4, 5], person 1 can withdraw money in 3 minutes. Since person 2 has to wait for person 1 to withdraw money, it takes 3+1 = 4 minutes. Since person 3 has to wait until person 1 and 2 draw money, a total of 3+1+4 = 8 minutes is needed. Person 4 takes 3+1+4+3 = 11 minutes, person 5 takes 3+1+4+3+2 = 13 minutes. In this case, the total time required for each person to withdraw money is 3+4+8+11+13 = 39 minutes.\n",
    "\n",
    "If you line up in the order [2, 5, 1, 4, 3], person 2 will get there in 1 minute, person 5 will get there in 1+2 = 3 minutes, person 1 will get there in 1+2+3 = 6 minutes. person 4 takes 1+2+3+3 = 9 minutes, person 3 takes 1+2+3+3+4 = 13 minutes. The total time each person needs to withdraw money is 1+3+6+9+13 = 32 minutes. There is no way to minimize the sum of time required other than this method.\n",
    "\n",
    "Given the number of people in line, N, and the time Pᵢ it takes for each person to withdraw money, write a program to find the minimum sum of the time required for each person to withdraw money.\n",
    "### Input\n",
    "In the first line, the number of people N (1 ≤ N ≤ 1,000) is given. The second line gives the time Pᵢ it takes for each person to withdraw money. (1 ≤ Pᵢ≤ 1,000)\n",
    "### Output\n",
    "The first line prints the minimum value of the sum of the time required for each person to withdraw money.\n",
    "### Sample Output\n",
    "6<br>\n",
    "3 4 4 5 3 6\n",
    "### Sample Output\n",
    "77"
   ]
  },
  {
   "cell_type": "code",
   "execution_count": 23,
   "id": "b3f072c2",
   "metadata": {},
   "outputs": [
    {
     "name": "stdout",
     "output_type": "stream",
     "text": [
      "6\n",
      "3 4 4 5 3 6\n",
      "77\n"
     ]
    }
   ],
   "source": [
    "N = int(input())\n",
    "times = list(map(int, input().split()))\n",
    "times.sort()\n",
    "total_time = 0\n",
    "cumulative_time = 0\n",
    "\n",
    "for i in range(N):\n",
    "    cumulative_time += times[i]\n",
    "    total_time += cumulative_time\n",
    "print(total_time)\n"
   ]
  },
  {
   "cell_type": "markdown",
   "id": "d2f6e553",
   "metadata": {},
   "source": [
    "# 3.25\n",
    "## Sorting cards\n",
    "### Description\n",
    "Let's say we have two stacks of numbered cards sorted. Let's say we have two stacks of numbered cards sorted. If the number of cards in each bundle is A and B, usually A+B comparisons are required to combine the two bundles into one. For example, combining a set of 20 number cards with a set of 30 number cards requires 50 comparisons.\n",
    "\n",
    "A large stack of number cards lies on the desk. If you select two sets of these and combine them, the number of comparisons varies greatly depending on the order in which you select them. For example, if there are bundles of 10, 20, and 40 sheets, combining the 10 and 20 sheets, and then combining the combined bundle of 30 sheets and 40 sheets, (10 + 20) + (30 + 40) = 100 comparisons are required. do. However, if you combine 10 sheets and 40 sheets, and then combine the combined 50 sheet bundle and 20 sheets, (10 + 40) + (50 + 20) = 120 comparisons are required, which is a less efficient method.\n",
    "\n",
    "Given each size of a set of N number cards, write a program to find the minimum number of comparisons required.\n",
    "### Input\n",
    "In the first line, N is given. (1 ≤ N ≤ 100,000) Then, the size of each number card bundle is given over N rows. The size of the number card pack is a positive integer less than or equal to 1,000.\n",
    "### Output\n",
    "Prints the minimum number of comparisons on the first line.\n",
    "### Sample Output\n",
    "3 <br>\n",
    "10<br>\n",
    "20<br>\n",
    "40\n",
    "### Sample Output\n",
    "100"
   ]
  },
  {
   "cell_type": "code",
   "execution_count": 25,
   "id": "7c12d78d",
   "metadata": {},
   "outputs": [
    {
     "name": "stdout",
     "output_type": "stream",
     "text": [
      "Enter the number of card bundles: 3\n",
      "10\n",
      "20\n",
      "40\n",
      "Minimum number of comparisons: 100\n"
     ]
    }
   ],
   "source": [
    "def min_comparisons(card_sizes):\n",
    "    total_comparisons = 0\n",
    "    while len(card_sizes) > 1:\n",
    "        card_sizes.sort()\n",
    "        smallest1 = card_sizes.pop(0)\n",
    "        smallest2 = card_sizes.pop(0)\n",
    "        combined_bundle = smallest1 + smallest2\n",
    "        total_comparisons += combined_bundle\n",
    "        card_sizes.append(combined_bundle)\n",
    "\n",
    "    return total_comparisons\n",
    "N = int(input())\n",
    "card_sizes = [int(input()) for _ in range(N)]\n",
    "result = min_comparisons(card_sizes)\n",
    "print(result)\n"
   ]
  },
  {
   "cell_type": "markdown",
   "id": "45a56c3a",
   "metadata": {},
   "source": [
    "# 3.26\n",
    "## Group Anagrams\n",
    "### Description\n",
    "Given an array of strings ‘strs’, group the anagrams together. You can return the answer in any order.\n",
    "\n",
    "An Anagram is a word or phrase formed by rearranging the letters of a different word or phrase, typically using all the original letters exactly once.\n",
    "\n",
    "\n",
    "\n",
    "Constraints:\n",
    "\n",
    "1 ≤ strs.length ≤ 10⁴\n",
    "\n",
    "0 ≤ strs[i].length ≤ 100\n",
    "\n",
    "strs[i] consists of lowercase English letters.\n",
    "\n",
    "\n",
    "\n",
    "### Input\n",
    "Each element of the list strs is separated by a comma (',').\n",
    "### Output\n",
    "\n",
    "### Sample Output\n",
    "eat,tea,tan,ate,nat,bat\n",
    "### Sample Output\n",
    "[['eat', 'tea', 'ate'], ['tan', 'nat'], ['bat']]"
   ]
  },
  {
   "cell_type": "code",
   "execution_count": 27,
   "id": "de5355cd",
   "metadata": {},
   "outputs": [
    {
     "name": "stdout",
     "output_type": "stream",
     "text": [
      "eat,tea,tan,ate,nat,bat\n",
      "[['eat', 'tea', 'ate'], ['tan', 'nat'], ['bat']]\n"
     ]
    }
   ],
   "source": [
    "def group_anagrams(strs):\n",
    "    anagrams_dict = {}\n",
    "\n",
    "    for word in strs:\n",
    "        sorted_word = ''.join(sorted(word))\n",
    "        if sorted_word in anagrams_dict:\n",
    "            anagrams_dict[sorted_word].append(word)\n",
    "        else:\n",
    "            anagrams_dict[sorted_word] = [word]\n",
    "\n",
    "    result = list(anagrams_dict.values())\n",
    "    return result\n",
    "input_str = input()\n",
    "strs = input_str.split(',')\n",
    "result = group_anagrams(strs)\n",
    "print(result)\n"
   ]
  },
  {
   "cell_type": "markdown",
   "id": "837c0922",
   "metadata": {},
   "source": [
    "# 3.27\n",
    "## Valid Anagram\n",
    "### Description\n",
    "Given two strings s and t, return true if t is an anagram of s, and false otherwise.\n",
    "\n",
    "An Anagram is a word or phrase formed by rearranging the letters of a different word or phrase, typically using all the original letters exactly once.\n",
    "\n",
    "Constraints:\n",
    "\n",
    "1 ≤ s.length, t.length ≤ 5 * 10⁴\n",
    "\n",
    "s and t consist of lowercase English letters.\n",
    "### Input\n",
    "The strings s and t are separated by one space.\n",
    "### Output\n",
    "Return true if t is an anagram of s, and false otherwise.\n",
    "### Sample Output\n",
    "anagram nagaram\n",
    "### Sample Output\n",
    "true"
   ]
  },
  {
   "cell_type": "code",
   "execution_count": 31,
   "id": "7870eca7",
   "metadata": {},
   "outputs": [
    {
     "name": "stdout",
     "output_type": "stream",
     "text": [
      "anagram nagaram\n",
      "true\n"
     ]
    }
   ],
   "source": [
    "def is_anagram(s, t):\n",
    "    if len(s) != len(t):\n",
    "        return False\n",
    "    char_count_s = {}\n",
    "    char_count_t = {}\n",
    "\n",
    "    for char in s:\n",
    "        char_count_s[char] = char_count_s.get(char, 0) + 1\n",
    "\n",
    "    for char in t:\n",
    "        char_count_t[char] = char_count_t.get(char, 0) + 1\n",
    "\n",
    "    if char_count_s == char_count_t:\n",
    "        return 'true'\n",
    "\n",
    "input_str = input()\n",
    "S, T = input_str.split()\n",
    "\n",
    "result = is_anagram(S, T)\n",
    "print(result)\n"
   ]
  },
  {
   "cell_type": "markdown",
   "id": "85dcc727",
   "metadata": {},
   "source": [
    "# 3.28\n",
    "## Merge Intervals\n",
    "### Description\n",
    "Given an array of intervals where intervals[i] = [startᵢ, endᵢ], merge all overlapping intervals, and return an array of the non-overlapping intervals that cover all the intervals in the input.\n",
    "\n",
    "Constraints:\n",
    "\n",
    "1 ≤ intervals.length ≤ 10⁴\n",
    "\n",
    "intervals[i].length == 2\n",
    "\n",
    "0 ≤ startᵢ ≤ endᵢ ≤ 10⁴\n",
    "### Input\n",
    "첫 번째 줄에는 intervals 배열의 길이intervals.length이 주어진다. 두 번째 줄부터intervals.length번째 줄까지 배열의 원소들이 한 개의 공백으로 입력된다.\n",
    "### Output\n",
    "The first line is given the length intervals.length of the intervals array. The elements in the array from the second line to the intervals.length th line are entered as one space.\n",
    "### Sample Output\n",
    "4 <br>\n",
    "1 3 <br>\n",
    "2 6 <br>\n",
    "8 10 <br>\n",
    "15 18\n",
    "### Sample Output\n",
    "[[1, 6], [8, 10], [15, 18]]"
   ]
  },
  {
   "cell_type": "code",
   "execution_count": null,
   "id": "a49740c1",
   "metadata": {},
   "outputs": [],
   "source": []
  },
  {
   "cell_type": "markdown",
   "id": "5da3b0e4",
   "metadata": {},
   "source": [
    "# 3.29\n",
    "## Insertion Sort List\n",
    "### Description\n",
    "Given the head of a singly linked list, sort the list using insertion sort, and return the sorted list's head.\n",
    "\n",
    "The steps of the insertion sort algorithm:\n",
    "\n",
    "Insertion sort iterates, consuming one input element each repetition and growing a sorted output list.\n",
    "\n",
    "At each iteration, insertion sort removes one element from the input data, finds the location it belongs within the sorted list and inserts it there.\n",
    "\n",
    "It repeats until no input elements remain.\n",
    "\n",
    "Constraints:\n",
    "\n",
    "The number of nodes in the list is in the range [1, 5000].\n",
    "\n",
    "-5000 ≤ Node.val ≤ 5000\n",
    "### Input\n",
    "The head of the list is divided into one space in the form of an integer.\n",
    "### Output\n",
    "-\n",
    "### Sample Output\n",
    "4 2 1 3\n",
    "### Sample Output\n",
    "1 2 3 4"
   ]
  },
  {
   "cell_type": "code",
   "execution_count": 36,
   "id": "d08056f5",
   "metadata": {},
   "outputs": [
    {
     "name": "stdout",
     "output_type": "stream",
     "text": [
      "4 2 1 3\n",
      "1 2 3 4\n"
     ]
    }
   ],
   "source": [
    "def insertion_sort(nums):\n",
    "    sorted_nums = []\n",
    "    for num in nums:\n",
    "        if not sorted_nums or num < sorted_nums[0]:\n",
    "            sorted_nums.insert(0, num)\n",
    "        else:\n",
    "            i = 0\n",
    "            while i < len(sorted_nums) and num >= sorted_nums[i]:\n",
    "                i += 1\n",
    "            sorted_nums.insert(i, num)\n",
    "\n",
    "    return sorted_nums\n",
    "values = list(map(int, input().split()))\n",
    "sorted_values = insertion_sort(values)\n",
    "print(*sorted_values)\n"
   ]
  },
  {
   "cell_type": "markdown",
   "id": "40ae232b",
   "metadata": {},
   "source": [
    "# 3.30\n",
    "## Largest Number\n",
    "### Description\n",
    "Given a list of non-negative integers nums, arrange them such that they form the largest number and return it.\n",
    "\n",
    "Since the result may be very large, so you need to return a string instead of an integer.\n",
    "\n",
    "Constraints:\n",
    "\n",
    "1 ≤ nums.length ≤ 100\n",
    "\n",
    "0 ≤ nums[i] ≤ 10⁹\n",
    "### Input\n",
    "The elements of the list nums are given as inputs.\n",
    "### Output\n",
    "-\n",
    "### Sample Output\n",
    "12 5 6\n",
    "### Sample Output\n",
    "6 5 1 2"
   ]
  },
  {
   "cell_type": "code",
   "execution_count": null,
   "id": "21729217",
   "metadata": {},
   "outputs": [],
   "source": []
  },
  {
   "cell_type": "markdown",
   "id": "57225df1",
   "metadata": {},
   "source": [
    "# 3.31\n",
    "## Sort Colors\n",
    "### Description\n",
    "Given an array nums with n objects colored red, white, or blue, sort them in-place so that objects of the same color are adjacent, with the colors in the order red, white, and blue.\n",
    "\n",
    "We will use the integers 0, 1, and 2 to represent the color red, white, and blue, respectively.\n",
    "\n",
    "You must solve this problem without using the library's sort function.\n",
    "\n",
    "Constraints:\n",
    "\n",
    "n == nums.length\n",
    "\n",
    "1 ≤ n ≤ 300\n",
    "\n",
    "nums[i] is either 0, 1, or 2.\n",
    "\n",
    "### Input\n",
    "The elements of the array nums are given separated by one space.\n",
    "### Output\n",
    "-\n",
    "### Sample Output\n",
    "0 2 1 1 0 2 0\n",
    "### Sample Output\n",
    "[0, 0, 0, 1, 1, 2, 2]"
   ]
  },
  {
   "cell_type": "code",
   "execution_count": 37,
   "id": "bf8d0aac",
   "metadata": {},
   "outputs": [
    {
     "name": "stdout",
     "output_type": "stream",
     "text": [
      "0 2 1 1 0 2 0\n",
      "[0, 0, 0, 1, 1, 2, 2]\n"
     ]
    }
   ],
   "source": [
    "def sort_colors(nums):\n",
    "    low, mid, high = 0, 0, len(nums) - 1\n",
    "\n",
    "    while mid <= high:\n",
    "        if nums[mid] == 0:\n",
    "            nums[low], nums[mid] = nums[mid], nums[low]\n",
    "            low += 1\n",
    "            mid += 1\n",
    "        elif nums[mid] == 1:\n",
    "            mid += 1\n",
    "        else:\n",
    "            nums[mid], nums[high] = nums[high], nums[mid]\n",
    "            high -= 1\n",
    "\n",
    "\n",
    "nums = list(map(int, input().split()))\n",
    "sort_colors(nums)\n",
    "\n",
    "print(nums)\n"
   ]
  },
  {
   "cell_type": "code",
   "execution_count": null,
   "id": "9230e327",
   "metadata": {},
   "outputs": [],
   "source": []
  }
 ],
 "metadata": {
  "kernelspec": {
   "display_name": "Python 3 (ipykernel)",
   "language": "python",
   "name": "python3"
  },
  "language_info": {
   "codemirror_mode": {
    "name": "ipython",
    "version": 3
   },
   "file_extension": ".py",
   "mimetype": "text/x-python",
   "name": "python",
   "nbconvert_exporter": "python",
   "pygments_lexer": "ipython3",
   "version": "3.10.9"
  }
 },
 "nbformat": 4,
 "nbformat_minor": 5
}
