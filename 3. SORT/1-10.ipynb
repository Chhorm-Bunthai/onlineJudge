{
 "cells": [
  {
   "cell_type": "markdown",
   "id": "5a4c3cd5",
   "metadata": {},
   "source": [
    "# 3.01\n",
    "## Sorting Characters\n",
    "### Description\n",
    "Given N alphabetic characters, sort and print uppercase letters in ascending order, and sort and print lowercase letters in descending order. (1≤N≤100)\n",
    "\n",
    "In Python, you can distinguish between uppercase and lowercase letters using the isupper() and islower() methods of the str object.\n",
    "### Input\n",
    "The first line is given the number of characters N. (1≤N≤100)\n",
    "\n",
    "The second line is given N characters.\n",
    "\n",
    "However, it is assumed that among the N characters, there must be at least one uppercase and lowercase letter of the alphabet.\n",
    "### Output\n",
    "Sort and print uppercase letters in ascending order, and sort and print lowercase letters in descending order.\n",
    "### Sample Output\n",
    "6  AaBbCc\n",
    "### Sample Output\n",
    "ABC  cba"
   ]
  },
  {
   "cell_type": "code",
   "execution_count": 10,
   "id": "2e1cd440",
   "metadata": {},
   "outputs": [
    {
     "name": "stdout",
     "output_type": "stream",
     "text": [
      "6 AaBbCc\n",
      "ABC cba\n"
     ]
    }
   ],
   "source": [
    "# Input\n",
    "N, characters = input().split()\n",
    "N = int(N)\n",
    "\n",
    "uppercase_letters = []\n",
    "lowercase_letters = []\n",
    "\n",
    "# Separate uppercase and lowercase letters\n",
    "for char in characters:\n",
    "    if char.isupper():\n",
    "        uppercase_letters.append(char)\n",
    "    else:\n",
    "        lowercase_letters.append(char)\n",
    "\n",
    "# Sort the lists\n",
    "uppercase_letters.sort()  # Ascending order\n",
    "lowercase_letters.sort(reverse=True)  # Descending order\n",
    "\n",
    "# Join and print the results\n",
    "result = ''.join(uppercase_letters) + ' ' + ''.join(lowercase_letters)\n",
    "print(result)\n",
    "\n"
   ]
  },
  {
   "cell_type": "markdown",
   "id": "9e372a67",
   "metadata": {},
   "source": [
    "# 3.02\n",
    "## Sorting String\n",
    "### Description\n",
    "import random\n",
    "from string import ascii_lowercase\n",
    "\n",
    "def generate(SEED, N):\n",
    "    random.seed(SEED)\n",
    "    S=[]\n",
    "    for _ in range(N):\n",
    "        length=random.randint(1, N-1)\n",
    "        s=random.sample(ascii_lowercase, length)\n",
    "        S.append(\"\".join(s))\n",
    "    return S\n",
    "\n",
    "S=generate(2002,10)\n",
    "print(S)\n",
    "['q', 'yusdij', 'd', 'qjcbk', 'lapyft', 'yltqwsx', 'wborail', 'otaskimlz', 'd', 'wmnpz']\n",
    "\n",
    "-\n",
    "\n",
    "When multiple words are given, sort the given words based on the following criteria.\n",
    "\n",
    "Print words with shorter length first.\n",
    "\n",
    "\n",
    "Words of the same length are output in ascending word order.\n",
    "\n",
    "For example, let's say you are given 6 words as follows.\n",
    "\n",
    "banana kiwi apple pear mango orange\n",
    "\n",
    "If these words are sorted based on the above criteria, they are as follows.\n",
    "\n",
    "kiwi pear apple mango banana orange\n",
    "\n",
    "When randomly generated N strings are sorted based on the above criteria, print the Kth string. (1≤N≤26, 0≤K≤N-1)\n",
    "\n",
    "However, the random string S must be generated using the following code. You can create a random string by using the ascii_lowercase of the string module and the sample() function of the random module. Given the number of strings N, use the randint() function to generate N strings with a length greater than or equal to 1 and less than N.\n",
    "\n",
    "import random\n",
    "from string import ascii_lowercase\n",
    "\n",
    "def generate(SEED, N):\n",
    "    random.seed(SEED)\n",
    "    S=[]\n",
    "    for _ in range(N):\n",
    "        length=random.randint(1, N-1)\n",
    "        s=random.sample(ascii_lowercase, length)\n",
    "        S.append(\"\".join(s))\n",
    "    return S\n",
    "\n",
    "S=generate(2002,10)\n",
    "print(S)\n",
    "['q', 'yusdij', 'd', 'qjcbk', 'lapyft', 'yltqwsx', 'wborail', 'otaskimlz', 'd', 'wmnpz']\n",
    "### Input\n",
    "The first line is given the number of characters N. (1≤N≤100)\n",
    "\n",
    "The second line is given N characters.\n",
    "\n",
    "However, it is assumed that among the N characters, there must be at least one uppercase and lowercase letter of the alphabet.\n",
    "### Output\n",
    "Sort and print uppercase letters in ascending order, and sort and print lowercase letters in descending order.\n",
    "### Sample Output\n",
    "6  AaBbCc\n",
    "### Sample Output\n",
    "ABC  cba"
   ]
  },
  {
   "cell_type": "code",
   "execution_count": 11,
   "id": "9161cadf",
   "metadata": {},
   "outputs": [
    {
     "name": "stdout",
     "output_type": "stream",
     "text": [
      "2022 10 5\n",
      "byljm\n"
     ]
    }
   ],
   "source": [
    "import random\n",
    "from string import ascii_lowercase\n",
    "\n",
    "def generate(SEED, N):\n",
    "    random.seed(SEED)\n",
    "    S = []\n",
    "    for _ in range(N):\n",
    "        length = random.randint(1, N - 1)\n",
    "        s = random.sample(ascii_lowercase, length)\n",
    "        S.append(\"\".join(s))\n",
    "    return S\n",
    "SEED, N, K = map(int, input().split())\n",
    "S = generate(SEED, N)\n",
    "sorted_S = sorted(S, key=lambda x: (len(x), x))\n",
    "\n",
    "print(sorted_S[K])\n"
   ]
  },
  {
   "cell_type": "markdown",
   "id": "cdc09e44",
   "metadata": {},
   "source": [
    "# 3.03\n",
    "## Deleting Median Value\n",
    "### Description\n",
    "import random\n",
    "def generate(SEED, MIN, MAX, N):\n",
    "    random.seed(SEED)\n",
    "    return random.sample(range(MIN, MAX), N)\n",
    "\n",
    "SEED, MIN, MAX, N, K = 2022, 10, 100, 15, 5\n",
    "S = generate(SEED, MIN, MAX, N)\n",
    "print(S)\n",
    "\n",
    "[78, 46, 66, 79, 49, 84, 17, 76, 98, 62, 97, 91, 50, 11, 65]\n",
    "-\n",
    "\n",
    "Given a list S of integers consisting of N integers, the median value of S is sequentially deleted.At this time,print the median value that is deleted for the Kth time.\n",
    "\n",
    "However, a random integer list S must be generated using the following code. Using the seed() and sample() functions of Python's random module, you can generate random integers with certain rules.\n",
    "\n",
    "import random\n",
    "def generate(SEED, MIN, MAX, N):\n",
    "    random.seed(SEED)\n",
    "    return random.sample(range(MIN, MAX), N)\n",
    "\n",
    "SEED, MIN, MAX, N, K = 2022, 10, 100, 15, 5\n",
    "S = generate(SEED, MIN, MAX, N)\n",
    "print(S)\n",
    "\n",
    "[78, 46, 66, 79, 49, 84, 17, 76, 98, 62, 97, 91, 50, 11, 65]\n",
    "### Input\n",
    "The first line is given SEED, MIN, MAX, and N for generating random integers.\n",
    "\n",
    "The second line is given a positive integer K to find the position of the median value to be deleted. (1 <= K <= N - 1)\n",
    "### Output\n",
    "When the median values are sequentially deleted from the randomly generated integer list S, the K-th deleted value is output on the first line.\n",
    "### Sample Output\n",
    "2022 10 100 10 5\n",
    "### Sample Output\n",
    "49"
   ]
  },
  {
   "cell_type": "code",
   "execution_count": null,
   "id": "6a1d27e0",
   "metadata": {},
   "outputs": [],
   "source": []
  },
  {
   "cell_type": "markdown",
   "id": "a71ea92f",
   "metadata": {},
   "source": [
    "# 3.04\n",
    "## Anagram Counting\n",
    "### Description\n",
    "Given N words, print how many anagrams there are for a specific word.\n",
    "\n",
    "The word that appears first among anagram words is selected, and the words are output in ascending alphabetical order.\n",
    "### Input\n",
    "In the first line, the number of words, N, is given.\n",
    "In the next N lines, one word is given on each line.\n",
    "Words are composed only of lowercase letters of the English alphabet.\n",
    "### Output\n",
    "Prints a word and the number of anagram words for that word, one per line.\n",
    "Among words that are anagrams, only the first word that appears is output.\n",
    "Words are output in ascending order of strings.\n",
    "### Sample Output\n",
    "8  listen  santa  ant  satan  silent  tan  can  anats\n",
    "### Sample Output\n",
    "ant 2  can 1  listen 2  santa 3"
   ]
  },
  {
   "cell_type": "code",
   "execution_count": 35,
   "id": "a94e7c8e",
   "metadata": {},
   "outputs": [
    {
     "name": "stdout",
     "output_type": "stream",
     "text": [
      "8  listen  santa  ant  satan  silent  tan  can  anats\n",
      "santa 3 can 1 ant 2 listen 2 "
     ]
    }
   ],
   "source": [
    "N, *words = input().split()\n",
    "N = int(N)\n",
    "anagram_groups = {}\n",
    "\n",
    "# Group words by their sorted characters\n",
    "for word in words:\n",
    "    sorted_word = ''.join(sorted(word))\n",
    "    if sorted_word in anagram_groups:\n",
    "        anagram_groups[sorted_word].append(word)\n",
    "    else:\n",
    "        anagram_groups[sorted_word] = [word]\n",
    "\n",
    "# Sort the keys (sorted words) in ascending order\n",
    "# sorted_keys = sorted(anagram_groups.keys())\n",
    "\n",
    "# Output anagrams and their counts\n",
    "for sorted_word in sorted_keys:\n",
    "    anagrams = anagram_groups[sorted_word]\n",
    "    print(anagrams[0],len(anagrams), end=' ')\n"
   ]
  },
  {
   "cell_type": "markdown",
   "id": "5862da66",
   "metadata": {},
   "source": [
    "# 3.05\n",
    "## Bubble sort order\n",
    "### Description\n",
    "When sorting N different positive integers using selection sort, Print the two numbers that are swapped for the Kth time.\n",
    "\n",
    "However, the selection sort algorithm uses the selectionsort() function implemented in Example 3.6.\n",
    "### Input\n",
    "The first line is given positive integers N and K.\n",
    "\n",
    "The second line is given N different integers.\n",
    "### Output\n",
    "The first line outputs the two numbers swapped in the Kth order in ascending order.\n",
    "### Sample Output\n",
    "7 10 <br>\n",
    "50 40 70 10 30 20 60\n",
    "### Sample Output\n",
    "30 40"
   ]
  },
  {
   "cell_type": "code",
   "execution_count": 63,
   "id": "fb0882d7",
   "metadata": {},
   "outputs": [
    {
     "name": "stdout",
     "output_type": "stream",
     "text": [
      "7 10\n",
      "50 40 70 10 30 20 60\n",
      "30 40\n"
     ]
    }
   ],
   "source": [
    "def solve(n,s,k):\n",
    "    cnt = 0\n",
    "    for i in range(n-1):\n",
    "        for j in range(n-1-i):\n",
    "            if s[j] > s[j+1]:\n",
    "                s[j], s[j+1] = s[j+1], s[j]\n",
    "                cnt +=1\n",
    "            if cnt == k:\n",
    "                return s[j], s[j+1]\n",
    "N, K= map(int, input().split())\n",
    "S = list(map(int, input().split()))\n",
    "res = solve(N,S,K)\n",
    "print(*res)"
   ]
  },
  {
   "cell_type": "code",
   "execution_count": null,
   "id": "36c18478",
   "metadata": {},
   "outputs": [],
   "source": [
    "50 40 70 10 30 20 60"
   ]
  },
  {
   "cell_type": "markdown",
   "id": "ed1d2196",
   "metadata": {},
   "source": [
    "# 3.06\n",
    "## Selection sort order\n",
    "### Description\n",
    "When sorting N different positive integers using selection sort, Print the two numbers that are swapped for the Kth time.\n",
    "\n",
    "However, the selection sort algorithm uses the selectionsort() function implemented in Example 3.6.\n",
    "### Input\n",
    "The first line is given positive integers N and K.\n",
    "\n",
    "The second line is given N different integers.\n",
    "### Output\n",
    "The first line outputs the two numbers swapped in the Kth order in ascending order.\n",
    "### Sample Output\n",
    "7 10<br>\n",
    "50 40 70 10 30 20 60\n",
    "### Sample Output\n",
    "50 70"
   ]
  },
  {
   "cell_type": "code",
   "execution_count": 1,
   "id": "d0429e38",
   "metadata": {},
   "outputs": [
    {
     "name": "stdout",
     "output_type": "stream",
     "text": [
      "1 20\n",
      "1 20\n"
     ]
    }
   ],
   "source": [
    "N, K = map(int, input().split())\n",
    "S = list(map(int,input().split()))"
   ]
  },
  {
   "cell_type": "code",
   "execution_count": null,
   "id": "114fb8e5",
   "metadata": {},
   "outputs": [],
   "source": [
    "def selectionsort(n,s):\n",
    "    cnt = 0\n",
    "    for i in range(n-1):\n",
    "        minv, minj = s[i], i\n",
    "        for j in range(i+1, n):\n",
    "            minv, minj = s[j], j\n",
    "        if i != minj:\n",
    "            s[i], s[minj] = s[minj], s[i]\n",
    "            cnt +=1\n",
    "    return cnt\n",
    "N, K = map(int, input().split())\n",
    "S = list(map(int,input().split()))\n",
    "print(selectionsort(N, S))"
   ]
  },
  {
   "cell_type": "markdown",
   "id": "e8b84287",
   "metadata": {},
   "source": [
    "# 3.07\n",
    "## Insertion sort order\n",
    "### Description\n",
    "When sorting N different positive integers using insertion sort, Print the Kth stored number.\n",
    "\n",
    "The insertion sort algorithm uses the insertionsort() function implemented in Example 3.7. However, things that are stored in their original location are excluded from the order.\n",
    "\n",
    "For example, consider the following input:\n",
    "\n",
    "50 40 70 10 30 20 60\n",
    "\n",
    "The first stored number is 50, and the second stored number is 40. However, the number 70 selected later is larger than 50, so it is stored in its original location. Therefore, the third stored number is 70, which is stored after selecting 10, and the fourth stored number is 50.\n",
    "### Input\n",
    "The first line is given positive integers N and K.\n",
    "\n",
    "The second line is given N different integers.\n",
    "### Output\n",
    "The first line outputs the two numbers swapped in the Kth order in ascending order.\n",
    "### Sample Output\n",
    "7 10<br>\n",
    "50 40 70 10 30 20 60\n",
    "### Sample Output\n",
    "50"
   ]
  },
  {
   "cell_type": "code",
   "execution_count": 6,
   "id": "179976fc",
   "metadata": {},
   "outputs": [
    {
     "name": "stdout",
     "output_type": "stream",
     "text": [
      "3\n",
      "10 20 30\n",
      "2\n"
     ]
    }
   ],
   "source": [
    "# This is from the lectures\n",
    "def insertionsort(n, s):\n",
    "    cnt = 0\n",
    "    for i in range(1, n):\n",
    "        j, val = i - 1, s[i]\n",
    "        cnt += 1\n",
    "        while j >= 0 and s[j] > val:\n",
    "            s[j+1] = s[j]\n",
    "            j -= 1\n",
    "            cnt += 1\n",
    "        s[j+1] = val\n",
    "    return cnt\n",
    "N, K = map(int, input().split())\n",
    "S = list(map(int, input().split()))\n",
    "print(insertionsort(N, S))"
   ]
  },
  {
   "cell_type": "code",
   "execution_count": 7,
   "id": "5439e378",
   "metadata": {},
   "outputs": [
    {
     "name": "stdout",
     "output_type": "stream",
     "text": [
      "[1, 2, 3, 4, 5, 6, 10, 12]\n"
     ]
    }
   ],
   "source": [
    "# This is just example from the internet for clearer explaination\n",
    "def insertion_sort(input_list):\n",
    "    for index in range(1, len(input_list)):\n",
    "        current_value = input_list[index]\n",
    "        position = index\n",
    "        \n",
    "        while position > 0 and input_list[position - 1] > current_value:\n",
    "            input_list[position] = input_list[position - 1]\n",
    "            position -= 1\n",
    "\n",
    "        input_list[position] = current_value\n",
    "\n",
    "    return input_list\n",
    "example_list = [4, 3, 2, 10, 12, 1, 5, 6]\n",
    "sorted_list = insertion_sort(example_list)\n",
    "print(sorted_list)"
   ]
  },
  {
   "cell_type": "code",
   "execution_count": 22,
   "id": "c261ec3d",
   "metadata": {
    "scrolled": false
   },
   "outputs": [
    {
     "name": "stdout",
     "output_type": "stream",
     "text": [
      "7 5\n",
      "50 40 70 10 30 20 60\n",
      "50\n"
     ]
    }
   ],
   "source": [
    "# This is the submitted answer\n",
    "def insertion_sort(arr):\n",
    "    stored_elements = []\n",
    "    for i in range(1, len(arr)):\n",
    "        key = arr[i]\n",
    "        j = i - 1\n",
    "        while j >= 0 and key < arr[j]:\n",
    "            arr[j + 1] = arr[j]\n",
    "            j -= 1\n",
    "        arr[j + 1] = key\n",
    "        stored_elements.append(arr[:i])\n",
    "    return stored_elements, arr[4]  \n",
    "\n",
    "n, k = map(int, input().split())\n",
    "numbers = list(map(int, input().split()))\n",
    "stored_arrays, fourth_stored_value = insertion_sort(numbers)\n",
    "print(fourth_stored_value)\n"
   ]
  },
  {
   "cell_type": "markdown",
   "id": "02ecea05",
   "metadata": {},
   "source": [
    "# 3.08\n",
    "## Selection Sort\n",
    "### Description\n",
    "Write a program that initializes 10 pieces of data 1, 2, 3, 4, 5, 6, 7, 8, 9, and 10 into a list and then sorts them in descending order using Selection Sort.\n",
    "### Input\n",
    "Natural numbers from 1 to 10 are entered in ascending order separately by one space.\n",
    "### Output\n",
    "The number of inputs is sorted in descending order and output.\n",
    "### Sample Output\n",
    "1 2 3 4 5 6 7 8 9 10\n",
    "### Sample Output\n",
    "[10, 9, 8, 7, 6, 5, 4, 3, 2, 1]"
   ]
  },
  {
   "cell_type": "code",
   "execution_count": 2,
   "id": "c0c5f166",
   "metadata": {
    "scrolled": true
   },
   "outputs": [
    {
     "name": "stdout",
     "output_type": "stream",
     "text": [
      "1 2 3 4 5 6 7 8 9 10\n",
      "[10, 9, 8, 7, 6, 5, 4, 3, 2, 1]\n"
     ]
    }
   ],
   "source": [
    "def solve(n):\n",
    "    return sorted(N, reverse= True)\n",
    "N = list(map(int, input().split()))\n",
    "print(solve(N))"
   ]
  },
  {
   "cell_type": "markdown",
   "id": "77e5b2ce",
   "metadata": {},
   "source": [
    "# 3.09\n",
    "## Sorting\n",
    "### Description\n",
    "When positive integer N (1≤N≤100) data is given as input, Write a program that sorts the input data in ascending order and prints it.Each data is an integer in the range of -100 to 100.\n",
    "### Input\n",
    "Natural numbers from 1 to 10 are entered in ascending order separately by one space.\n",
    "### Output\n",
    "The first line prints the data before sorting, and the second line prints the data after sorting, separated by a single space.\n",
    "### Sample Output\n",
    "10 <br>\n",
    "9 6 5 4 3 0 2 1 1 7\n",
    "### Sample Output\n",
    "9 6 5 4 3 0 2 1 1 7 \n",
    "0 1 1 2 3 4 5 6 7 9"
   ]
  },
  {
   "cell_type": "code",
   "execution_count": 25,
   "id": "04b6fa27",
   "metadata": {},
   "outputs": [
    {
     "name": "stdout",
     "output_type": "stream",
     "text": [
      "10\n",
      "9 6 5 4 3 0 2 1 1 7\n",
      "9 6 5 4 3 0 2 1 1 7\n",
      "0 1 1 2 3 4 5 6 7 9\n"
     ]
    }
   ],
   "source": [
    "def selectionsort(n, s):\n",
    "    for i in range(n):\n",
    "        min_idx = i\n",
    "        for j in range(i + 1, n):\n",
    "            if s[min_idx] > s[j]:\n",
    "                min_idx = j\n",
    "        if i != min_idx:\n",
    "            s[i], s[min_idx] = s[min_idx], s[i]\n",
    "    return s\n",
    "N = int(input())\n",
    "S = list(map(int, input().split()))\n",
    "print(' '.join(map(str, S)))\n",
    "sorted_data = selectionsort(N, S)\n",
    "print(' '.join(map(str, sorted_data)))\n"
   ]
  },
  {
   "cell_type": "markdown",
   "id": "bfc7cadd",
   "metadata": {},
   "source": [
    "# 3.10\n",
    "## The Third Largest Value\n",
    "### Description\n",
    "When 10 different positive integers ranging from 1 to 1,000 are given as input, Write a program that finds the third largest value among given integers and prints it.\n",
    "### Input\n",
    "10 different positive integers ranging from 1 to 1,000 are given as input.\n",
    "### Output\n",
    "Find the third largest value among given integers and prints it.\n",
    "### Sample Output\n",
    "1 2 3 4 5 6 7 8 9 1000\n",
    "### Sample Output\n",
    "8"
   ]
  },
  {
   "cell_type": "code",
   "execution_count": 29,
   "id": "e7f2eefc",
   "metadata": {},
   "outputs": [
    {
     "name": "stdout",
     "output_type": "stream",
     "text": [
      "1 2 3 4 5 6 7 8 9 1000\n",
      "8\n"
     ]
    }
   ],
   "source": [
    "numbers = list(map(int, input().split()))\n",
    "numbers.sort(reverse=True)\n",
    "third_largest = numbers[2]\n",
    "print(third_largest)\n"
   ]
  },
  {
   "cell_type": "markdown",
   "id": "88dcca84",
   "metadata": {},
   "source": [
    "# 3.11\n",
    "## A Magic Wand\n",
    "### Description\n",
    "Harry Potter's wand was damaged while fighting Lord Voldemort. So Harry Potter decided to purchase a new wand at Ollivander's Wand Shop with Euler. Ollivander's Wand Shop has N magic wands and N wand boxes. The lengths of the wands are, respectively, X1, X2, … , Xn, and the box sizes are Y1, Y2, … , Yn. A wand of length X can be placed in a box of size Y if X ≤ Y. Since a box can only hold one wand, Harry wants to know whether each box can hold all of the wands. Help Harry solve this difficult problem.\n",
    "### Input\n",
    "In the first line, a single positive integer N (1≤N≤100) is given, representing the number of wands and boxes. In the second line, N positive integers Xi(1≤Xi≤10^9) is given, representing the length of the wands.In the third line, N positive integers Yi(1≤Yi≤10^9) is given, representing the size of the box.\n",
    "### Output\n",
    "If Harry can put all of his wands in the box, print \"YES\" on the first line, and if Harry cannot, print \"NO\" on the first line.\n",
    "### Sample Output\n",
    "4 <br>\n",
    "5 3 3 5 <br>\n",
    "10 2 10 10\n",
    "### Sample Output\n",
    "NO"
   ]
  },
  {
   "cell_type": "code",
   "execution_count": 30,
   "id": "47439364",
   "metadata": {},
   "outputs": [
    {
     "name": "stdout",
     "output_type": "stream",
     "text": [
      "4\n",
      "5 3 3 5\n",
      "10 2 10 10\n",
      "NO\n"
     ]
    }
   ],
   "source": [
    "# Read the number of wands and boxes\n",
    "N = int(input())\n",
    "\n",
    "# Read the lengths of the wands and the sizes of the boxes\n",
    "wands = list(map(int, input().split()))\n",
    "boxes = list(map(int, input().split()))\n",
    "\n",
    "# Check if each wand fits into the corresponding box\n",
    "can_fit = True  # Assume initially that all wands fit into boxes\n",
    "\n",
    "# Go through each wand and box size to check if the wand fits in the box\n",
    "for i in range(N):\n",
    "    if wands[i] > boxes[i]:  # If a wand is too big for its corresponding box\n",
    "        can_fit = False  # Harry cannot put all his wands in the boxes\n",
    "\n",
    "# Output the result\n",
    "if can_fit:\n",
    "    print(\"YES\")  # Harry can put all his wands in the boxes\n",
    "else:\n",
    "    print(\"NO\")  # Harry cannot put all his wands in the boxes\n"
   ]
  },
  {
   "cell_type": "code",
   "execution_count": null,
   "id": "9e7b8603",
   "metadata": {},
   "outputs": [],
   "source": []
  }
 ],
 "metadata": {
  "kernelspec": {
   "display_name": "Python 3 (ipykernel)",
   "language": "python",
   "name": "python3"
  },
  "language_info": {
   "codemirror_mode": {
    "name": "ipython",
    "version": 3
   },
   "file_extension": ".py",
   "mimetype": "text/x-python",
   "name": "python",
   "nbconvert_exporter": "python",
   "pygments_lexer": "ipython3",
   "version": "3.10.9"
  }
 },
 "nbformat": 4,
 "nbformat_minor": 5
}
