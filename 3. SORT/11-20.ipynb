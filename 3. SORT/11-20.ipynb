{
 "cells": [
  {
   "cell_type": "markdown",
   "id": "666700cc",
   "metadata": {},
   "source": [
    "# 3.11\n",
    "## A Magic Wand\n",
    "### Description\n",
    "Harry Potter's wand was damaged while fighting Lord Voldemort. So Harry Potter decided to purchase a new wand at Ollivander's Wand Shop with Euler. Ollivander's Wand Shop has N magic wands and N wand boxes. The lengths of the wands are, respectively, X1, X2, … , Xn, and the box sizes are Y1, Y2, … , Yn. A wand of length X can be placed in a box of size Y if X ≤ Y. Since a box can only hold one wand, Harry wants to know whether each box can hold all of the wands. Help Harry solve this difficult problem.\n",
    "### Input\n",
    "In the first line, a single positive integer N (1≤N≤100) is given, representing the number of wands and boxes. In the second line, N positive integers Xi(1≤Xi≤10^9) is given, representing the length of the wands.In the third line, N positive integers Yi(1≤Yi≤10^9) is given, representing the size of the box.\n",
    "### Output\n",
    "If Harry can put all of his wands in the box, print \"YES\" on the first line, and if Harry cannot, print \"NO\" on the first line.\n",
    "### Sample Output\n",
    "4<br>\n",
    "5 3 3 5<br>\n",
    "10 2 10 10\n",
    "### Sample Output\n",
    "NO"
   ]
  },
  {
   "cell_type": "code",
   "execution_count": 2,
   "id": "889e721b",
   "metadata": {},
   "outputs": [
    {
     "name": "stdout",
     "output_type": "stream",
     "text": [
      "4\n",
      "5 3 3 5 \n",
      "10 2 10 10\n",
      "NO\n"
     ]
    }
   ],
   "source": [
    "def can_fit_wands(N, wands, boxes):\n",
    "    # Sort the wands and boxes in non-decreasing order\n",
    "    wands.sort()\n",
    "    boxes.sort()\n",
    "\n",
    "    # Check if each wand can fit into the corresponding box\n",
    "    for i in range(N):\n",
    "        if wands[i] > boxes[i]:\n",
    "            return \"NO\"  # If a wand cannot fit, return \"NO\"\n",
    "    \n",
    "    return \"YES\"  # If all wands fit, return \"YES\"\n",
    "\n",
    "# Input reading\n",
    "N = int(input())\n",
    "wands = list(map(int, input().split()))\n",
    "boxes = list(map(int, input().split()))\n",
    "\n",
    "# Output the result\n",
    "result = can_fit_wands(N, wands, boxes)\n",
    "print(result)"
   ]
  },
  {
   "cell_type": "markdown",
   "id": "c393cbfd",
   "metadata": {},
   "source": [
    "# 3.12\n",
    "## Kangaroo\n",
    "### Description\n",
    "Three kangaroos are playing in the grassland. They lie on a straight line at different integer coordinates A(0<A<100) and B(0<B<100) and C(0<C<100). On the first line, print the maximum number of jumps the kangaroo can make.\n",
    "\n",
    "Only one kangaroo standing outside at a time can jump in between two kangaroos. Two kangaroos cannot be located at the same coordinates at the same time.\n",
    "### Input\n",
    "The integer coordinates A, B, and C with three kangaroos in the first row are given.\n",
    "### Output\n",
    "On the first line, print the maximum number of jumps the kangaroo can make.\n",
    "### Sample Output\n",
    "2 3 5\n",
    "### Sample Output\n",
    "1"
   ]
  },
  {
   "cell_type": "code",
   "execution_count": 9,
   "id": "51322ce9",
   "metadata": {},
   "outputs": [
    {
     "name": "stdout",
     "output_type": "stream",
     "text": [
      "2 5 7\n",
      "[2, 5, 7]\n",
      "2\n"
     ]
    }
   ],
   "source": [
    "def max_jumps(a, b, c):\n",
    "    # Sort the coordinates in ascending order\n",
    "    coordinates = sorted([a, b, c])\n",
    "    print(coordinates)\n",
    "\n",
    "    # Calculate the differences between adjacent coordinates and subtract 1\n",
    "    jumps = max(coordinates[1] - coordinates[0], coordinates[2] - coordinates[1]) - 1\n",
    "    return jumps\n",
    "\n",
    "# Input reading\n",
    "a, b, c = map(int, input().split())\n",
    "\n",
    "# Output the maximum number of jumps\n",
    "result = max_jumps(a, b, c)\n",
    "print(result)\n"
   ]
  },
  {
   "cell_type": "markdown",
   "id": "bad428c0",
   "metadata": {},
   "source": [
    "# 3.13\n",
    "## Four Integers\n",
    "### Description\n",
    "While carrying out academic research for the future of the kingdom, Euler discovered four important integers. What is even more surprising is that when four integers are sorted in such a way, the differences between neighboring integers are equal. One day, Euler lost one of the four integers, and the remaining three integers were not sorted.\n",
    "\n",
    "Given three integers in the range between -100 and 100 separated by a space, find the one integer that Euler missed in his four-square identity. If there are multiple possible correct answers, select the highest value and print it.\n",
    "### Input\n",
    "Given three integers in the range between -100 and 100 separated by a space.\n",
    "### Output\n",
    "Find and print the one integer that Euler missed.\n",
    "### Sample Output\n",
    "10 1 4\n",
    "### Sample Output\n",
    "7"
   ]
  },
  {
   "cell_type": "code",
   "execution_count": 21,
   "id": "dc0870fe",
   "metadata": {},
   "outputs": [
    {
     "name": "stdout",
     "output_type": "stream",
     "text": [
      "13 5 1\n",
      "9\n"
     ]
    }
   ],
   "source": [
    "def find_missing_integer(n):\n",
    "    n.sort()\n",
    "    miss_integer = n[2] - (n[1] - n[0])\n",
    "    return miss_integer\n",
    "N = list(map(int, input().split()))\n",
    "print(find_missing_integer(N))"
   ]
  },
  {
   "cell_type": "markdown",
   "id": "4c0f05b4",
   "metadata": {},
   "source": [
    "# 3.14\n",
    "## Insertion Sort\n",
    "### Description\n",
    "Write a program that initializes 10 pieces of data 1, 2, 3, 4, 5, 6, 7, 8, 9, and 10 into a list and then sorts them in descending order using insertion sort.\n",
    "### Input\n",
    "Natural numbers from 1 to 10 are entered separately by one space.\n",
    "### Output\n",
    "The number of inputs is sorted in descending order and output.\n",
    "### Sample Output\n",
    "1 2 3 4 5 6 7 8 9 10\n",
    "### Sample Output\n",
    "[10, 9, 8, 7, 6, 5, 4, 3, 2, 1]"
   ]
  },
  {
   "cell_type": "code",
   "execution_count": 47,
   "id": "3a5b10ab",
   "metadata": {},
   "outputs": [
    {
     "name": "stdout",
     "output_type": "stream",
     "text": [
      "1 2 3 4 5 6 7 8 9 10\n",
      "[10, 9, 8, 7, 6, 5, 4, 3, 2, 1]\n"
     ]
    }
   ],
   "source": [
    "def insertionsort(s):\n",
    "    li = []\n",
    "    for i in range(0, len(s)):\n",
    "        j, val = i - 1, s[i]\n",
    "        while j >= 0 and val < s[j]:\n",
    "            s[j+1] = s[j]\n",
    "            j -= 1\n",
    "        s[j+1] = val\n",
    "        li.append(s[j + 1])\n",
    "    li.sort(reverse = True)\n",
    "    return li\n",
    "N = list(map(int, input().split()))\n",
    "print(insertionsort(N))"
   ]
  },
  {
   "cell_type": "markdown",
   "id": "ecbcf357",
   "metadata": {},
   "source": [
    "# 3.15\n",
    "## From top to bottom\n",
    "### Description\n",
    "There are various numbers in one sequence. These numbers are listed regardless of their size.These numbers must be sorted from largest to smallest. Write a program to sort a sequence in descending order.\n",
    "### Input\n",
    "- In the first line, the number N of numbers in the sequence is given. (1 ≤ N ≤ 500)\n",
    "\n",
    "- N numbers are input from the second line to the N+1 line. The number range is a natural number between 1 and 100,000.\n",
    "### Output\n",
    "- Outputs the results in which the sequence given as input is sorted in descending order, separated by spaces. You may freely output the same number of sequences.\n",
    "### Sample Output\n",
    "5 <br>\n",
    "13<br>\n",
    "7<br>\n",
    "15<br>\n",
    "20<br>\n",
    "31\n",
    "### Sample Output\n",
    "31 20 15 13 7"
   ]
  },
  {
   "cell_type": "code",
   "execution_count": 62,
   "id": "5e6f5b81",
   "metadata": {},
   "outputs": [
    {
     "name": "stdout",
     "output_type": "stream",
     "text": [
      "5\n",
      "13\n",
      "7\n",
      "15\n",
      "20\n",
      "31\n",
      "31 20 15 13 7\n"
     ]
    }
   ],
   "source": [
    "def insertionsort(n,s):\n",
    "    li = []\n",
    "    for i in range(0, n):\n",
    "        j, val = i - 1, s[i]\n",
    "        while j >= 0 and val < s[j]:\n",
    "            s[j+1] = s[j]\n",
    "            j -= 1\n",
    "        s[j+1] = val\n",
    "        li.append(val)\n",
    "    li.sort(reverse = True)\n",
    "    return li\n",
    "N = int(input())\n",
    "S = [int(input()) for _ in range(N)]\n",
    "sortedArr = insertionsort(N,S)\n",
    "print(' '.join(map(str, sortedArr)))"
   ]
  },
  {
   "cell_type": "markdown",
   "id": "5a3e6e5d",
   "metadata": {},
   "source": [
    "# 3.16\n",
    "## Print students in grade order\n",
    "### Description\n",
    "There are various numbers in one sequence. These numbers are listed regardless of their size.These numbers must be sorted from largest to smallest. Write a program to sort a sequence in descending order.\n",
    "### Input\n",
    "- In the first line, the number of students N is entered. (1 ≤ N ≤ 100,000)\n",
    "\n",
    "- In the second to N+1 lines, a string A representing the student's name and an integer B representing the student's grade are entered, separated by a space. The length of string A and the student's grade are natural numbers less than or equal to 100.\n",
    "### Output\n",
    "- Print the names of all students in order from highest to lowest grades. You can freely print the order of students with the same grades.\n",
    "### Sample Output\n",
    "3 <br>\n",
    "Tom 79 <br>\n",
    "James 91 <br>\n",
    "Luke 70\n",
    "### Sample Output\n",
    "James Tom Luke"
   ]
  },
  {
   "cell_type": "code",
   "execution_count": 66,
   "id": "766f4677",
   "metadata": {},
   "outputs": [
    {
     "name": "stdout",
     "output_type": "stream",
     "text": [
      "3\n",
      "drd 79\n",
      "ff 91\n",
      "des 70\n",
      "ff 91\n"
     ]
    }
   ],
   "source": [
    "def sort_students_by_grades(student_list):\n",
    "    # Sort the list of students by grades in descending order\n",
    "    sorted_students = sorted(student_list, key=lambda x: x[1], reverse=True)\n",
    "    return sorted_students\n",
    "\n",
    "# Input\n",
    "N = int(input())\n",
    "student_data = [input().split() for _ in range(N)]\n",
    "\n",
    "# Convert grades to integers\n",
    "student_data = [(name, int(grade)) for name, grade in student_data]\n",
    "\n",
    "# Sort students by grades\n",
    "sorted_students = sort_students_by_grades(student_data)\n",
    "\n",
    "# Output the names of students in order from highest to lowest grades\n",
    "for student in sorted_students:\n",
    "    print(student[0], end = ' ')\n"
   ]
  },
  {
   "cell_type": "markdown",
   "id": "52fddc0a",
   "metadata": {},
   "source": [
    "# 3.17\n",
    "## Swap elements between two arrays\n",
    "### Description\n",
    "There are two arrays A and B. The two arrays are composed of N elements, and the elements of the arrays are all natural numbers. A swap operation can be performed up to K times. A swap operation refers to selecting one element in A and one element in B and swapping the two elements.\n",
    "\n",
    "Given N, K, and elements of arrays A and B, write a program that outputs the maximum value of the sum of all elements of array A that can be created by performing up to K swap operations.\n",
    "\n",
    "For example, if N = 6, K = 3 and arrays A and B are as follows,\n",
    "\n",
    "Array A = [1, 2, 3, 4, 5, 6]\n",
    "\n",
    "Array B = [2, 3, 5, 7, 9, 9]\n",
    "\n",
    "In this case, three operations can be performed as follows.\n",
    "\n",
    "Operation 1: Swap element '1' of array A and element '9' of array B.\n",
    "\n",
    "Operation 2: Swap element '2' of array A and element '9' of array B.\n",
    "\n",
    "Operation 3: Swap element '3' of array A and element '7' of array B.\n",
    "\n",
    "After three operations, the states of array A and array B will be structured as follows.\n",
    "\n",
    "Array A = [9, 9, 7, 4, 5, 6]\n",
    "\n",
    "Array B = [2, 3, 5, 3, 1, 2]\n",
    "\n",
    "At this time, the maximum value of the sum of all elements in array A is 40.\n",
    "### Input\n",
    "- In the first line, N and K are separated by a space. (1 ≤ N ≤ 100,000, 0 ≤ K ≤ N)\n",
    "\n",
    "- In the second line, the elements of array A are entered separated by spaces. All elements are natural numbers less than 10,000,000.\n",
    "\n",
    "- In the third line, the elements of array B are separated by spaces. All elements are natural numbers less than 10,000,000.\n",
    "### Output\n",
    "- Outputs the maximum value of the sum of all elements of array A that can be created by performing up to K swap operations.\n",
    "### Sample Output\n",
    "6 3 <br>\n",
    "1 2 3 4 5 6 <br>\n",
    "2 3 5 7 9 9\n",
    "### Sample Output\n",
    "40"
   ]
  },
  {
   "cell_type": "code",
   "execution_count": 72,
   "id": "b1d5affe",
   "metadata": {},
   "outputs": [
    {
     "name": "stdout",
     "output_type": "stream",
     "text": [
      "6 3\n",
      "1 2 3 4 5 6\n",
      "2 3 5 7 9 9\n",
      "40\n"
     ]
    }
   ],
   "source": [
    "def maximize_sum(N, K, A, B):\n",
    "    # Sort arrays A and B in ascending order\n",
    "    A.sort()\n",
    "    B.sort(reverse=True)\n",
    "\n",
    "    # Perform up to K swap operations\n",
    "    for i in range(min(N, K)):\n",
    "        if A[i] < B[i]:\n",
    "            A[i], B[i] = B[i], A[i]\n",
    "\n",
    "    # Output the maximum value of the sum of all elements in array A\n",
    "    max_sum = sum(max(A,B))\n",
    "    return max_sum\n",
    "\n",
    "N, K = map(int, input().split())\n",
    "A = list(map(int, input().split()))\n",
    "B = list(map(int, input().split()))\n",
    "\n",
    "# Output the result\n",
    "result = maximize_sum(N, K, A, B)\n",
    "print(result)\n"
   ]
  },
  {
   "cell_type": "markdown",
   "id": "1c186f1f",
   "metadata": {},
   "source": [
    "# 3.18\n",
    "## Korean, English, Math\n",
    "### Description\n",
    "The names of N students and their Korean, English, and math scores are given in that order. At this time, write a program to sort student grades under the following conditions.\n",
    "\n",
    "1. In the order of increasing Korean language scores\n",
    "\n",
    "2. If the Korean language score is the same, in the order of increasing English score\n",
    "\n",
    "3. If your Korean and English scores are the same, in order of increasing math scores\n",
    "\n",
    "4. If all scores are equal, names are sorted in increasing alphabetical order. (However, in ASCII code, uppercase letters are smaller than lowercase letters, so they come first in alphabetical order.)\n",
    "### Input\n",
    "- In the first line, the number of students N is given (1 ≤ N ≤ 100,000).\n",
    "\n",
    "- Starting from the second line, each student's name, Korean, English, and math scores are given one by one, separated by spaces.\n",
    "\n",
    "- The score is a natural number greater than or equal to 1 and less than or equal to 100.\n",
    "\n",
    "- The name is a string consisting of upper and lower case letters of the alphabet, and its length does not exceed 10 characters.\n",
    "### Output\n",
    "- After sorting according to the sorting criteria shown in the problem, each student's name is printed over N lines starting from the first line.\n",
    "### Sample Output\n",
    "12<br>\n",
    "Junkyu 50 60 100<br>\n",
    "Sangkeun 80 60 50<br>\n",
    "Sunyoung 80 70 100<br>\n",
    "Soong 50 60 90<br>\n",
    "Haebin 50 60 100<br>\n",
    "Kangsoo 60 80 100<br>\n",
    "Donghyuk 80 60 100<br>\n",
    "Sei 70 70 70<br>\n",
    "Wonseob 70 70 90<br>\n",
    "Sanghyun 70 70 80<br>\n",
    "nsj 80 80 80<br>\n",
    "Taewhan 50 60 90<br>\n",
    "### Sample Output\n",
    "Soong<br>\n",
    "Taewhan<br>\n",
    "Haebin<br>\n",
    "Junkyu<br>\n",
    "Kangsoo<br>\n",
    "Sei<br>\n",
    "Sanghyun<br>\n",
    "Wonseob<br>\n",
    "Sangkeun<br>\n",
    "Donghyuk<br>\n",
    "Sunyoung<br>\n",
    "nsj"
   ]
  },
  {
   "cell_type": "code",
   "execution_count": null,
   "id": "df2f73b3",
   "metadata": {},
   "outputs": [],
   "source": []
  },
  {
   "cell_type": "markdown",
   "id": "d93586fd",
   "metadata": {},
   "source": [
    "# 3.19\n",
    "## Antenna\n",
    "### Description\n",
    "There are several houses located in a village on a straight line. Among these, it was decided to install one antenna specifically in a house in a specific location. For efficiency, we try to install it so that the total distance from the antenna to all houses is minimal. At this time, the antenna can only be installed where a house is located, and logically it is possible for multiple houses to exist in the same location.\n",
    "\n",
    "Given the locations of the houses, write a program to select where to install the antenna.\n",
    "\n",
    "For example, assume that N=4 and each position is 1, 5, 7, and 9.\n",
    "\n",
    "In this case, when installed at position 5, the total distance from the antenna to all houses is (4+0+2+4)=10, which is the minimum.\n",
    "### Input\n",
    "In the first line, the number N of the house is given as a natural number. (1≤N≤200,000) In the second line, the locations of N houses are separated by spaces and given as natural numbers between 1 and 100,000.\n",
    "### Output\n",
    "The first line outputs the value of the location where the antenna is to be installed.However, if multiple values are derived for the location where the antenna can be installed, output the smallest value.\n",
    "### Sample Output\n",
    "7<br>\n",
    "1 3 4 6 8 10 15\n",
    "### Sample Output\n",
    "6"
   ]
  },
  {
   "cell_type": "code",
   "execution_count": 85,
   "id": "3ed6d642",
   "metadata": {},
   "outputs": [
    {
     "name": "stdout",
     "output_type": "stream",
     "text": [
      "7\n",
      "1 3 4 6 8 10 15\n",
      "6\n"
     ]
    }
   ],
   "source": [
    "def antenna_location(house):\n",
    "    mid = (len(house) - 1) // 2\n",
    "    return house[mid]\n",
    "N = int(input())\n",
    "house = list(map(int, input().split()))\n",
    "result = antenna_location(house)\n",
    "print(result)\n"
   ]
  },
  {
   "cell_type": "markdown",
   "id": "c976f7c2",
   "metadata": {},
   "source": [
    "# 3.20\n",
    "## Failure Rate\n",
    "### Description\n",
    "AnB Game Company is in big trouble. Although the company's new game has been a huge success, the number of new users has plummeted these days. The problem was that the stage difference between new users and existing users was too big.\n",
    "\n",
    "After several meetings to solve this problem, it was decided to adjust the difficulty by dynamically increasing the game time.Most of the logic was easily implemented, leaving only the part that calculates the failure rate. Complete the code to calculate the failure rate.\n",
    "\n",
    "Failure rate is defined as follows.\n",
    "\n",
    "Number of players who have reached the stage but have not yet cleared it / Number of players who have reached and cleared the stage\n",
    "\n",
    "When the total number of stages N, an array stages containing the number of the stage where the user using the game is currently stopped, are given as parameters, complete the solution function to return an array containing the number of the stages in descending order from the stage with the highest failure rate.\n",
    "\n",
    "\n",
    "- The number of stages N is a natural number from 1 to 500.\n",
    "\n",
    "- The length of the stages is between 1 and 200,000.\n",
    "\n",
    "- Stages contain natural numbers greater than or equal to 1 and less than or equal to N + 1.\n",
    "\n",
    "- Each natural number indicates the number of the stage the user is currently challenging.\n",
    "\n",
    "- However, N + 1 indicates the user who cleared up to the last stage (Nth stage).\n",
    "\n",
    "- If there are stages with the same failure rate, the stage with the smaller number should come first.\n",
    "\n",
    "- If no user reaches a stage, the failure rate for that stage is defined as 0.\n",
    "### Input\n",
    "- In the first line, the number of stages N is given as input.\n",
    "\n",
    "- In the second line, each element of the stage array containing the number of the stage where the user is currently playing the game is separated by a single space.\n",
    "### Output\n",
    "- An array containing stage numbers in descending order from the stage with the highest failure rate is output in the form of a list. If there are stages with the same failure rate, the stage with the smaller number is output first.\n",
    "### Sample Output\n",
    "5 <br>\n",
    "2 1 2 6 2 4 3 3\n",
    "### Sample Output\n",
    "[3, 4, 2, 1, 5]"
   ]
  },
  {
   "cell_type": "code",
   "execution_count": 91,
   "id": "a128412b",
   "metadata": {},
   "outputs": [
    {
     "name": "stdout",
     "output_type": "stream",
     "text": [
      "5\n",
      "2 1 2 6 2 4 3 3\n",
      "[3, 4, 2, 1, 5]\n"
     ]
    }
   ],
   "source": [
    "def solution(N, stages):\n",
    "    failure_rates = []\n",
    "\n",
    "    for stage in range(1, N+1):\n",
    "        total_players = len([s for s in stages if s >= stage])\n",
    "        if total_players == 0:\n",
    "            failure_rate = 0\n",
    "        else:\n",
    "            failure_rate = stages.count(stage) / total_players\n",
    "\n",
    "        failure_rates.append((stage, failure_rate))\n",
    "\n",
    "    sorted_stages = sorted(failure_rates, key=lambda x: (x[1], -x[0]), reverse=True)\n",
    "    result = [stage[0] for stage in sorted_stages]\n",
    "\n",
    "    return result\n",
    "\n",
    "# Example usage\n",
    "N = int(input())\n",
    "stages = list(map(int, input().split()))\n",
    "result = solution(N, stages)\n",
    "print(result)\n"
   ]
  },
  {
   "cell_type": "code",
   "execution_count": null,
   "id": "ae29d3f9",
   "metadata": {},
   "outputs": [],
   "source": []
  }
 ],
 "metadata": {
  "kernelspec": {
   "display_name": "Python 3 (ipykernel)",
   "language": "python",
   "name": "python3"
  },
  "language_info": {
   "codemirror_mode": {
    "name": "ipython",
    "version": 3
   },
   "file_extension": ".py",
   "mimetype": "text/x-python",
   "name": "python",
   "nbconvert_exporter": "python",
   "pygments_lexer": "ipython3",
   "version": "3.10.9"
  }
 },
 "nbformat": 4,
 "nbformat_minor": 5
}
