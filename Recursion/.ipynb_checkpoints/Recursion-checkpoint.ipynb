{
 "cells": [
  {
   "cell_type": "markdown",
   "id": "159ef0c6",
   "metadata": {},
   "source": [
    "# 2.1\n",
    "# Select an element from a set"
   ]
  },
  {
   "cell_type": "markdown",
   "id": "cfdeda66",
   "metadata": {},
   "source": [
    "## Description\n",
    "We will be choosing a set of r elements from a set having n elements. The number of cases in which the selected elements are listed considering their order is defined as perm(n, r).\n",
    "\n",
    "perm(n,r) = n × (n−1)×...×(n−r+1)\n",
    "\n",
    "For nonnegative integers n and r, print the value of perm(n, r). (n≥r)"
   ]
  },
  {
   "cell_type": "markdown",
   "id": "24c191fb",
   "metadata": {},
   "source": [
    "## Input\n",
    "Nonnegative integers n and r are given separated by a space.(n≥r)\n",
    "## Ouput\n",
    "Print the value of perm(n, r)."
   ]
  },
  {
   "cell_type": "markdown",
   "id": "20f4cf3d",
   "metadata": {},
   "source": [
    "## Sample Input\n",
    "77 11\n",
    "## Sample Output\n",
    "266711567621704128000\n"
   ]
  },
  {
   "cell_type": "code",
   "execution_count": 1,
   "id": "bcafaa9d",
   "metadata": {},
   "outputs": [
    {
     "name": "stdout",
     "output_type": "stream",
     "text": [
      "77 11\n",
      "266711567621704128000\n"
     ]
    }
   ],
   "source": [
    "import math\n",
    "def perm(n,r):\n",
    "    return math.factorial(n) // math.factorial(n-r)\n",
    "N, R = map(int, input().split())\n",
    "print(perm(N,R))"
   ]
  },
  {
   "cell_type": "markdown",
   "id": "b54c1381",
   "metadata": {},
   "source": [
    "# 2.2\n",
    "# Least common multiple of multiple numbers\n",
    "## Description\n",
    "The Euclidean algorithm is a recursive algorithm used to find the greatest common divisor (GCD) of two integers, N and M.\n",
    "\n",
    "The least common multiple (LCM) of two positive integers, N and M can be calculated using their greatest common divisor of the two numbers as follows.\n",
    "## lcm(N,M) = N * M / gcd(N,M)"
   ]
  },
  {
   "cell_type": "code",
   "execution_count": 14,
   "id": "86a5670a",
   "metadata": {},
   "outputs": [
    {
     "name": "stdout",
     "output_type": "stream",
     "text": [
      "2 3 45\n",
      "<class 'int'>\n",
      "<class 'int'>\n",
      "<class 'int'>\n"
     ]
    }
   ],
   "source": [
    "def gcd(n,m):\n",
    "    if m == 0:\n",
    "        return n\n",
    "    else:\n",
    "        return gcd(m, n % m)\n",
    "X = [int(i) for i in input().split()]\n",
    "lcm(x[0],x)"
   ]
  },
  {
   "cell_type": "code",
   "execution_count": 32,
   "id": "74450bc9",
   "metadata": {},
   "outputs": [
    {
     "name": "stdout",
     "output_type": "stream",
     "text": [
      "14549535\n"
     ]
    }
   ],
   "source": [
    "def gcd(n, m):\n",
    "    if m == 0:\n",
    "        return n\n",
    "    else:\n",
    "        return gcd(m, n % m)\n",
    "\n",
    "def lcm(a, b):\n",
    "    return (a * b) // gcd(a, b)\n",
    "\n",
    "def find_lcm_of_list(numbers):\n",
    "    result = numbers[0]\n",
    "    for i in range(1, len(numbers)):\n",
    "        result = lcm(result, numbers[i])\n",
    "    return result\n",
    "X = [1, 3, 5, 7, 9, 11, 13, 15, 17, 19]\n",
    "lcm_result = find_lcm_of_list(X)\n",
    "print(lcm_result)"
   ]
  },
  {
   "cell_type": "markdown",
   "id": "14d30177",
   "metadata": {},
   "source": [
    "## 2.3\n",
    "## Collatz sequence\n",
    "### Description\n",
    "For nonnegative integers N and M(1≤N≤M≤2³²−1), among the integers that are greater than or equal to N and less than or equal to M, print the number with the longest Collatz sequence. If there are multiple numbers with the longest Collatz sequence, the largest number among them is output.\n",
    "### Input\n",
    "nonnegative integers N and M(1≤N≤M≤2³²−1) separated by a space are given.\n",
    "### Output\n",
    "Print the number with the longest Collatz sequence. If there are multiple numbers with the longest Collatz sequence, the largest number among them is output.\n",
    "### sample input\n",
    "123 321\n",
    "### sample output\n",
    "313\n",
    "131"
   ]
  },
  {
   "cell_type": "code",
   "execution_count": 25,
   "id": "66d98481",
   "metadata": {},
   "outputs": [
    {
     "name": "stdout",
     "output_type": "stream",
     "text": [
      "123 321\n",
      "313\n",
      "131\n"
     ]
    }
   ],
   "source": [
    "def collatz_sequence_length(n):\n",
    "    if n == 1:\n",
    "        return [1]\n",
    "    if n % 2 == 0:\n",
    "        return [n] + collatz_sequence_length(n // 2)\n",
    "    else:\n",
    "        return [n] + collatz_sequence_length(3 * n + 1)\n",
    "\n",
    "def find_longest_collatz(n, m):\n",
    "    max_length = 0\n",
    "    number_with_max_length = 0\n",
    "    for i in range(n, m + 1):\n",
    "        sequence = collatz_sequence_length(i)\n",
    "        length = len(sequence)\n",
    "        if length > max_length:\n",
    "            max_length = length\n",
    "            longest_collatz = i\n",
    "    return longest_collatz, max_length\n",
    "\n",
    "# Input values from the user\n",
    "N, M = map(int, input().split())\n",
    "\n",
    "result = find_longest_collatz(N, M)\n",
    "print(result[0])\n",
    "print(result[1])\n"
   ]
  },
  {
   "cell_type": "markdown",
   "id": "34b0f268",
   "metadata": {},
   "source": [
    "# 2.5\n",
    "## Ackermann function\n",
    "### Description\n",
    "For nonnegative integers n and m(0 ≤n≤3,0≤m≤10),The Ackermann function is a function defined as follows.\n",
    "Take non-negative integers n, m as input, Print the value of A(n, m) print the number of calls to the function.\n",
    "### input\n",
    "non-negative integers n, m are given.\n",
    "\n",
    "### output\n",
    "Print the value of A(n, m) and print the number of calls to the function.\n",
    "### sample input\n",
    "3 3\n",
    "### sample output\n",
    "61\n",
    "2432"
   ]
  },
  {
   "cell_type": "code",
   "execution_count": 80,
   "id": "60ce577c",
   "metadata": {},
   "outputs": [
    {
     "name": "stdout",
     "output_type": "stream",
     "text": [
      "3 3\n",
      "61\n",
      "2432\n"
     ]
    }
   ],
   "source": [
    "def ackermann(m, n, calls):\n",
    "    calls[0] += 1  # Increment the call count\n",
    "    if m == 0:\n",
    "        return n + 1\n",
    "    elif m > 0 and n == 0:\n",
    "        return ackermann(m - 1, 1, calls)\n",
    "    elif m > 0 and n > 0:\n",
    "        return ackermann(m - 1, ackermann(m, n - 1, calls), calls)\n",
    "\n",
    "# Initialize the call count\n",
    "calls = [0]\n",
    "\n",
    "# Input values for n and m\n",
    "n, m = map(int, input().split())\n",
    "\n",
    "# Calculate A(n, m) and count the number of calls\n",
    "result = ackermann(n, m, calls)\n",
    "\n",
    "# Print the result and the number of calls\n",
    "print(result)\n",
    "print(calls[0])\n"
   ]
  },
  {
   "cell_type": "code",
   "execution_count": 41,
   "id": "1871e632",
   "metadata": {},
   "outputs": [
    {
     "name": "stdout",
     "output_type": "stream",
     "text": [
      "3 3\n",
      "61\n",
      "2432\n"
     ]
    }
   ],
   "source": [
    "def ackermann(m, n, calls):\n",
    "    calls[0] += 1\n",
    "    if m == 0:\n",
    "        return n + 1\n",
    "    elif m > 0 and n == 0:\n",
    "        return ackermann(m - 1, 1, calls)\n",
    "    elif m > 0 and n > 0:\n",
    "        return ackermann(m - 1, ackermann(m, n - 1, calls), calls)\n",
    "calls = [0]\n",
    "N, M = map(int, input().split())\n",
    "result = ackermann(N, M, calls)\n",
    "print(result)\n",
    "print(calls[0])"
   ]
  },
  {
   "cell_type": "markdown",
   "id": "41d5a3ab",
   "metadata": {},
   "source": [
    "# 2.6\n",
    "## Operation process of Factorial\n",
    "### Description\n",
    "When a positive integer N (1≤N≤100) is given, write a program that outputs the N! (Factorial) process as shown in the following example.\n",
    "### input\n",
    "Positive integer N (1≤N≤100) is given.\n",
    "### ouput\n",
    "Print the N! (Factorial) process as shown in the following example.\n",
    "### sample input\n",
    "4\n",
    "### sample output\n",
    "1*2*3*4"
   ]
  },
  {
   "cell_type": "code",
   "execution_count": 57,
   "id": "9d1848b4",
   "metadata": {},
   "outputs": [
    {
     "name": "stdout",
     "output_type": "stream",
     "text": [
      "5\n",
      "1*2*3*4*5\n"
     ]
    }
   ],
   "source": [
    "N = int(input())\n",
    "res = '*'.join(str(i) for i in range(1,N+1))\n",
    "print(res)\n"
   ]
  },
  {
   "cell_type": "markdown",
   "id": "967da21a",
   "metadata": {},
   "source": [
    "# 2.7 \n",
    "## Factorial\n",
    "### Description\n",
    "The result of N! issame asN * (N-1) * (N-2) * … * 3 * 2 * 1. When a positive integer N (1≤N≤12) is given as input, print the result of N!.\n",
    "### Input\n",
    "Positive integer N (1≤N≤12) is given.\n",
    "### Output\n",
    "print the result of N!.\n",
    "### Sample Input 1 \n",
    "6\n",
    "### sample output\n",
    "720"
   ]
  },
  {
   "cell_type": "code",
   "execution_count": 65,
   "id": "7999a4eb",
   "metadata": {},
   "outputs": [
    {
     "name": "stdout",
     "output_type": "stream",
     "text": [
      "6\n",
      "720\n"
     ]
    }
   ],
   "source": [
    "def fac(n):\n",
    "    if n == 1:\n",
    "        return n\n",
    "    else:\n",
    "        return n * fac(n-1)\n",
    "N = int(input())\n",
    "print(fac(N))"
   ]
  },
  {
   "cell_type": "markdown",
   "id": "2b0ea07f",
   "metadata": {},
   "source": [
    "# 2.8\n",
    "## Factorial (2)\n",
    "### Description\n",
    "Write a program that analytically displays the factorial calculation process. N! = N * (N-1) * (N-2) * … It is * 3 * 2 * 1. When N(1≤N≤12) is given as input, print the calculation process of N! as shown in the following example.\n",
    "### input\n",
    "Integer N(1≤N≤12) is given as input.\n",
    "### Output\n",
    "Print the calculation process of N! as shown in the following example.\n",
    "### sample input\n",
    "6\n",
    "### sample output\n",
    "6!=(1*2*3*4*5*6)=720\n"
   ]
  },
  {
   "cell_type": "code",
   "execution_count": 66,
   "id": "bd52c450",
   "metadata": {},
   "outputs": [
    {
     "name": "stdout",
     "output_type": "stream",
     "text": [
      "6\n",
      "6!=(1*2*3*4*5*6)=720\n"
     ]
    }
   ],
   "source": [
    "def fac(n):\n",
    "    if n == 1:\n",
    "        return n\n",
    "    else:\n",
    "        return n * fac(n-1)\n",
    "N = int(input())\n",
    "res = '*'.join(str(i) for i in range(1,N+1))\n",
    "print(f'{N}!=({res})={fac(N)}')"
   ]
  },
  {
   "cell_type": "markdown",
   "id": "fd9e4339",
   "metadata": {},
   "source": [
    "# 2.9\n",
    "## Collatz sequence(2)\n",
    "### Description\n",
    "Let us consider the operation of dividing a natural number N in half if N is an even number, and dividing it in half by (N + 1) if it is odd.If you apply this operation repeatedly to any natural number, it will eventually reach the value 1. For example, in the case of N=10, it becomes 1 by applying this operation only 4 times as follows. Write a program that calculates the number of operations required to change N(1≤N≤1,000) given as input to 1.\n",
    "### Input\n",
    "Natural number N(1≤N≤1,000) is given.\n",
    "### ouput\n",
    "Prints the number of operations required to change N to 1.\n",
    "### sample input\n",
    "10\n",
    "### sample output\n",
    "4"
   ]
  },
  {
   "cell_type": "code",
   "execution_count": 92,
   "id": "4ed6a719",
   "metadata": {},
   "outputs": [
    {
     "name": "stdout",
     "output_type": "stream",
     "text": [
      "10\n",
      "4\n"
     ]
    }
   ],
   "source": [
    "def collatz(n):\n",
    "    if n == 1:\n",
    "        return [1]\n",
    "    elif n % 2 == 0:\n",
    "        return [n] + collatz(n // 2)\n",
    "    else:\n",
    "        return [n] + collatz( (n // 2) + 1)\n",
    "N = int(input())\n",
    "res = collatz(N)\n",
    "print(len(res)-1)"
   ]
  },
  {
   "cell_type": "code",
   "execution_count": 84,
   "id": "b5e6db56",
   "metadata": {},
   "outputs": [
    {
     "name": "stdout",
     "output_type": "stream",
     "text": [
      "10\n",
      "4\n"
     ]
    }
   ],
   "source": [
    "# def divide_and_conquer(N):\n",
    "#     operations = 0\n",
    "#     while N != 1:\n",
    "#         if N % 2 == 0:\n",
    "#             N //= 2\n",
    "#         else:\n",
    "#             N = (N + 1) // 2\n",
    "#         operations += 1\n",
    "#     return operations\n",
    "\n",
    "# # Input\n",
    "# N = int(input())\n",
    "# # Calculate the number of operations\n",
    "# result = divide_and_conquer(N)\n",
    "# # Output\n",
    "# print(result)\n"
   ]
  },
  {
   "cell_type": "markdown",
   "id": "ef153340",
   "metadata": {},
   "source": [
    "# 2.10\n",
    "## Hailstone Sequence\n",
    "### Description\n",
    "The Hailstone Sequence repeats the following calculation process:\n",
    "\n",
    "- If N is even, divide N by 2.\n",
    "\n",
    "- If N is odd, multiply N by 3 and then add 1.\n",
    "\n",
    "Given a certain positive integer N, although it has not yet been proven, it can be assumed that if the above process is repeated, it will always eventually reach the value 1. This is called the Collatz Conjecture and the resulting sequence of numbers generated by this process is referred to as the Hailstone Sequence.\n",
    "\n",
    "When one positive integer N (1≤N≤100,000) is given on the first line, find the largest positive integer included in the sequence until the end of the sequence, including the positive integer N, and print it on the first line.\n",
    "\n",
    "### input\n",
    "One positive integer N (1≤N≤100,000) is given.\n",
    "### ouput\n",
    "Find the largest positive integer included in the sequence until the end of the sequence, including the positive integer N, and print it.\n",
    "### Sample input\n",
    "3\n",
    "### sample ouput\n",
    "16"
   ]
  },
  {
   "cell_type": "code",
   "execution_count": 100,
   "id": "3f6035e8",
   "metadata": {},
   "outputs": [
    {
     "name": "stdout",
     "output_type": "stream",
     "text": [
      "3\n",
      "16\n"
     ]
    }
   ],
   "source": [
    "def collatz(n):\n",
    "    if n == 1:\n",
    "        return [1]\n",
    "    elif n % 2 == 0:\n",
    "        return [n] + collatz(n // 2)\n",
    "    else:\n",
    "        return [n] + collatz(3 * n + 1)\n",
    "N = int(input())\n",
    "l = collatz(N)\n",
    "print(max(l))"
   ]
  },
  {
   "cell_type": "markdown",
   "id": "bce93c36",
   "metadata": {},
   "source": [
    "# 2.11\n",
    "## Fibonacci numbers\n",
    "### Description\n",
    "In this scenario, let's assume you have a pair of male and female rabbits born on January 1st. Assume that all months are of equal length.A pair of rabbits gives birth to two babies (one male and one female pair) every month starting two months after their birth. That means the first pair will give birth to their first two cubs on March 1st. The cubs born to them also mate after two months and give birth to two cubs (a male and a female pair) every month. No rabbit dies in the process. When the N(1≤N≤20)th month arrives, write a program to find how many pairs of rabbits there are in total.\n",
    "### input\n",
    "N(1≤N≤20) indicating the number of months elapsed is given.\n",
    "### output\n",
    "Print how many pairs of rabbits there are in total.\n",
    "### sample input\n",
    "20\n",
    "### sample output\n",
    "6765\n"
   ]
  },
  {
   "cell_type": "code",
   "execution_count": 103,
   "id": "8f6d6f2e",
   "metadata": {},
   "outputs": [
    {
     "name": "stdout",
     "output_type": "stream",
     "text": [
      "20\n",
      "6765\n"
     ]
    }
   ],
   "source": [
    "def fib(n):\n",
    "    if n == 1 or n == 2:\n",
    "        return 1\n",
    "    else:\n",
    "        return fib(n-1) + fib(n-2)\n",
    "N = int(input())\n",
    "print(fib(N))"
   ]
  },
  {
   "cell_type": "markdown",
   "id": "2c3b73a0",
   "metadata": {},
   "source": [
    "# 2.12\n",
    "## A magical box and gold coins\n",
    "\n",
    "### Description\n",
    "There is a magical box. There are always gold coins in the magic box, but the amount of gold coins in the box is not always constant, and the amount of gold coins changes every day according to the following rules.\n",
    "\n",
    "① On the first day, there is 1 gold coin.\n",
    "\n",
    "② On the second day also, there is 1 gold coin.\n",
    "\n",
    "③ The number of gold coins on the (2 x i)th day is equal to the number of gold coins on the (i)th day.\n",
    "\n",
    "④ The number of gold coins on the (2 x i + 1)th day is equal to the sum of the number of gold coins on the (i)th day and the number of gold coins on the (i + 1)th day.\n",
    "\n",
    "Euler can open the magic box only once from the first day to the N (1≤N≤99,999) days. And then Euler can keep all the gold coins in the box. Write a program to find the maximum number of gold coins Euler can have.\n",
    "\n",
    "### input\n",
    "N(1≤N≤99,999), which represents the number of days elapsed, is given as the input.\n",
    "\n",
    "### Output\n",
    "Printsthe maximum number of gold coins Euler can have.\n",
    "\n",
    "### Sample input\n",
    "10\n",
    "### Sample Output 1\n",
    "4"
   ]
  },
  {
   "cell_type": "code",
   "execution_count": null,
   "id": "7ffc3ec0",
   "metadata": {},
   "outputs": [],
   "source": []
  },
  {
   "cell_type": "markdown",
   "id": "8993c466",
   "metadata": {},
   "source": [
    "# 2.13\n",
    "## The sum from 0 to n using a loop\n",
    "### Description\n",
    "Let's write a program that calculates the sum of consecutive numbers from 0 to n and prints it on the screen. However, n can be input from the user or written directly in the code.\n",
    "### input\n",
    "n can be input from the user or written directly in the code.\n",
    "-\n",
    "### Output\n",
    "Prints the sum of consecutive numbers from 0 to n.\n",
    "### Sample input\n",
    "100\n",
    "### Sample Output 1\n",
    "5050"
   ]
  },
  {
   "cell_type": "code",
   "execution_count": 3,
   "id": "2c132f42",
   "metadata": {},
   "outputs": [
    {
     "name": "stdout",
     "output_type": "stream",
     "text": [
      "100\n",
      "5050\n"
     ]
    }
   ],
   "source": [
    "def solve(n):\n",
    "    return n * (n+1)// 2\n",
    "N = int(input())\n",
    "print(solve(N))"
   ]
  },
  {
   "cell_type": "markdown",
   "id": "b7e5005c",
   "metadata": {},
   "source": [
    "# 2.14\n",
    "## Print from 0 to n using a recursive call\n",
    "### Description\n",
    "Let’s write a program that prints consecutive numbers from 1 to 20 on the screen. If the output result for the sum from 0 to n written previously was created using a loop, the problem we will create this time is to make a recursive call to the function that outputs only the numbers from 0 to n.\n",
    "### input\n",
    "A range n (n is a natural number) is given, representing the maximum number to be output.\n",
    "### Output\n",
    "A number from 0 to n is printed one per line.\n",
    "### Sample input\n",
    "20\n",
    "### Sample Output 1\n",
    "- 0\n",
    "- 1\n",
    "- 2\n",
    "- 3\n",
    "- 4\n",
    "- 5\n",
    "- 6\n",
    "- 7\n",
    "- 8\n",
    "- 9\n",
    "- 10\n",
    "- 11\n",
    "- 12\n",
    "- 13\n",
    "- 14\n",
    "- 15\n",
    "- 16\n",
    "- 17\n",
    "- 18\n",
    "- 19\n",
    "- 20"
   ]
  },
  {
   "cell_type": "code",
   "execution_count": 19,
   "id": "182d59c2",
   "metadata": {
    "scrolled": true
   },
   "outputs": [
    {
     "name": "stdout",
     "output_type": "stream",
     "text": [
      "5\n",
      "0\n",
      "1\n",
      "2\n",
      "3\n",
      "4\n",
      "5\n"
     ]
    }
   ],
   "source": [
    "def solve(n, current=0):\n",
    "    if current > n:\n",
    "        return\n",
    "    print(current)\n",
    "    solve(n, current + 1)\n",
    "N = int(input())\n",
    "solve(N)"
   ]
  },
  {
   "cell_type": "markdown",
   "id": "8d95d05e",
   "metadata": {},
   "source": [
    "# 2.15\n",
    "## Print from 0 to n using a loop\n",
    "### Description\n",
    "Write a program that prints consecutive numbers from 1 to 20 on the screen using a loop. The method written in the previous problem was a recursive call, but the method used this time is a loop. Let's print the numbers from 1 to n in order using a loop.\n",
    "### input\n",
    "A range n (n is a natural number) is given, representing the maximum number to be output.\n",
    "### Output\n",
    "A number from 1 to n is printed one per line.\n",
    "### Sample input\n",
    "20\n",
    "### Sample Output 1\n",
    "- 0\n",
    "- 1\n",
    "- 2\n",
    "- 3\n",
    "- 4\n",
    "- 5\n",
    "- 6\n",
    "- 7\n",
    "- 8\n",
    "- 9\n",
    "- 10\n",
    "- 11\n",
    "- 12\n",
    "- 13\n",
    "- 14\n",
    "- 15\n",
    "- 16\n",
    "- 17\n",
    "- 18\n",
    "- 19\n",
    "- 20"
   ]
  },
  {
   "cell_type": "code",
   "execution_count": 22,
   "id": "758f9c0e",
   "metadata": {},
   "outputs": [
    {
     "name": "stdout",
     "output_type": "stream",
     "text": [
      "10\n",
      "1\n",
      "2\n",
      "3\n",
      "4\n",
      "5\n",
      "6\n",
      "7\n",
      "8\n",
      "9\n",
      "10\n"
     ]
    }
   ],
   "source": [
    "def solve(n):\n",
    "    for i in range(1,n+1):\n",
    "        print(i)\n",
    "N = int(input())\n",
    "solve(N)"
   ]
  },
  {
   "cell_type": "markdown",
   "id": "2e905224",
   "metadata": {},
   "source": [
    "# 2.16\n",
    "## Print from n to 1 using recursive calls\n",
    "### Description\n",
    "Let's create code that uses recursive calls to print the output in reverse order, from n to 1.\n",
    "### input\n",
    "A positive integer n greater than 1 is given.\n",
    "### Output\n",
    "Number from n to 1 is printed.\n",
    "### Sample input\n",
    "10\n",
    "### Sample Output 1\n",
    "10 9 8 7 6 5 4 3 2 1"
   ]
  },
  {
   "cell_type": "code",
   "execution_count": 36,
   "id": "d9f55965",
   "metadata": {},
   "outputs": [
    {
     "name": "stdout",
     "output_type": "stream",
     "text": [
      "20\n",
      "20 19 18 17 16 15 14 13 12 11 10 9 8 7 6 5 4 3 2 1 "
     ]
    }
   ],
   "source": [
    "def solve(n):\n",
    "    if n == 0:\n",
    "        return 1\n",
    "    print(n, end=' ')\n",
    "    solve(n-1)\n",
    "N = int(input())\n",
    "solve(N)"
   ]
  },
  {
   "cell_type": "markdown",
   "id": "43bfc2b4",
   "metadata": {},
   "source": [
    "# 2.17\n",
    "## Use loops to calculate and output factorials\n",
    "### Description\n",
    "Write a program that calculates and prints the factorial using a loop within the range 0 to 20.\n",
    "### input\n",
    "A positive integer n indicating the range of calculations is given.\n",
    "### Output\n",
    "The results are output as shown in the following output example.\n",
    "### Sample input\n",
    "20\n",
    "### Sample Output 1\n",
    "```\n",
    "0! =                    1 \n",
    "1! =                    1 \n",
    "2! =                    2 \n",
    "3! =                    6 \n",
    "4! =                   24 \n",
    "5! =                  120 \n",
    "6! =                  720 \n",
    "7! =                 5040 \n",
    "8! =                40320 \n",
    "9! =               362880 \n",
    "10! =             3628800 \n",
    "11! =            39916800 \n",
    "12! =           479001600 \n",
    "13! =          6227020800 \n",
    "14! =         87178291200 \n",
    "15! =       1307674368000 \n",
    "16! =      20922789888000 \n",
    "17! =     355687428096000 \n",
    "18! =    6402373705728000 \n",
    "19! =  121645100408832000 \n",
    "20! = 2432902008176640000\n",
    "```"
   ]
  },
  {
   "cell_type": "code",
   "execution_count": 59,
   "id": "c95aa1c6",
   "metadata": {},
   "outputs": [
    {
     "name": "stdout",
     "output_type": "stream",
     "text": [
      "20\n",
      "0! =                    1\n",
      "1! =                    1\n",
      "2! =                    2\n",
      "3! =                    6\n",
      "4! =                   24\n",
      "5! =                  120\n",
      "6! =                  720\n",
      "7! =                 5040\n",
      "8! =                40320\n",
      "9! =               362880\n",
      "10! =              3628800\n",
      "11! =             39916800\n",
      "12! =            479001600\n",
      "13! =           6227020800\n",
      "14! =          87178291200\n",
      "15! =        1307674368000\n",
      "16! =       20922789888000\n",
      "17! =      355687428096000\n",
      "18! =     6402373705728000\n",
      "19! =   121645100408832000\n",
      "20! =  2432902008176640000\n"
     ]
    }
   ],
   "source": [
    "def calculate_factorial(n):\n",
    "    factorial = 1\n",
    "    for i in range(n + 1):\n",
    "        if i > 0:\n",
    "            factorial *= i\n",
    "        print(f\"{i}! = {factorial:20}\")\n",
    "\n",
    "# Input\n",
    "n = int(input())\n",
    "\n",
    "if n < 0:\n",
    "    print(\"Factorial is not defined for negative numbers.\")\n",
    "elif n > 20:\n",
    "    print(\"Factorial calculation is not supported for values greater than 20.\")\n",
    "else:\n",
    "    calculate_factorial(n)\n"
   ]
  },
  {
   "cell_type": "markdown",
   "id": "60650ba2",
   "metadata": {},
   "source": [
    "# 2.21\n",
    "## Program that reverses the numbers\n",
    "### Description\n",
    "Write a program that reverses the numbers input from the user and outputs them on the screen. For example, if “123” is input, “3 2 1” is output.\n",
    "### input\n",
    "Input example\n",
    "3484279\n",
    "### Output\n",
    "Output example\n",
    "9 7 2 4 8 4 3\n",
    "### Sample input\n",
    "3484279\n",
    "### Sample Output 1\n",
    "9 7 2 4 8 4 3"
   ]
  },
  {
   "cell_type": "code",
   "execution_count": 78,
   "id": "d3fff5fe",
   "metadata": {},
   "outputs": [
    {
     "name": "stdout",
     "output_type": "stream",
     "text": [
      "123\n",
      "3 2 1\n"
     ]
    }
   ],
   "source": [
    "N = str(input())\n",
    "reverse =' '.join(N[::-1]\n",
    "print(reverse)"
   ]
  },
  {
   "cell_type": "code",
   "execution_count": 81,
   "id": "4567e01b",
   "metadata": {},
   "outputs": [
    {
     "name": "stdout",
     "output_type": "stream",
     "text": [
      "The GCD of 24 and 64 is 8\n"
     ]
    }
   ],
   "source": [
    "def euclidean_algorithm_recursive(a, b):\n",
    "    if b == 0:\n",
    "        return a\n",
    "    else:\n",
    "        return euclidean_algorithm_recursive(b, a % b)\n",
    "\n",
    "# Example usage:\n",
    "num1 = 24\n",
    "num2 = 64\n",
    "gcd = euclidean_algorithm_recursive(num1, num2)\n",
    "print(f\"The GCD of {num1} and {num2} is {gcd}\")\n"
   ]
  },
  {
   "cell_type": "markdown",
   "id": "ec46981a",
   "metadata": {},
   "source": [
    "# 2.22\n",
    "## The Euclidean algorithm\n",
    "### Description\n",
    "The Euclidean algorithm is a method where, when there is a large number x and a small number y, the large number is continuously divided by the small number and repeated until x % y becomes 0. Write a program that prints the greatest common divisor for two numbers 24 and 64 using the Euclidean algorithm but using a loop.\n",
    "### input\n",
    "two numbers 24 and 64 are given.\n",
    "3484279\n",
    "### Output\n",
    "Prints the greatest common divisor for two numbers.\n",
    "### Sample input\n",
    "24 64\n",
    "### Sample Output 1\n",
    "8"
   ]
  },
  {
   "cell_type": "code",
   "execution_count": 82,
   "id": "eba433e1",
   "metadata": {},
   "outputs": [
    {
     "name": "stdout",
     "output_type": "stream",
     "text": [
      "24 64\n",
      "8\n"
     ]
    }
   ],
   "source": [
    "def solve(a, b):\n",
    "    while b:\n",
    "        a, b = b, a % b\n",
    "    return a\n",
    "N1, N2 = map(int, input().split())\n",
    "gcd = solve(N1, N2)\n",
    "print(gcd)\n"
   ]
  },
  {
   "cell_type": "markdown",
   "id": "39fcfe6c",
   "metadata": {},
   "source": [
    "# 2.23\n",
    "## Find the number of triangles\n",
    "### Description\n",
    "Using a recursive call, write code to find the number of all triangles that can be created when the sum of the lengths of the three sides is equal to the number n entered by the user, or when the sum of two of the three sides is greater than the size of the other side.\n",
    "### input\n",
    "A positive integer n is given as input.\n",
    "3484279\n",
    "### Output\n",
    "Prints the number of all triangles.\n",
    "\n",
    "\n",
    "### Sample input\n",
    "10\n",
    "### Sample Output 1\n",
    "Number of triangles that can be created: 2"
   ]
  },
  {
   "cell_type": "code",
   "execution_count": null,
   "id": "bb3ac5b1",
   "metadata": {},
   "outputs": [],
   "source": []
  },
  {
   "cell_type": "markdown",
   "id": "f6d3230d",
   "metadata": {},
   "source": [
    "# 2.24\n",
    "## The Euclidean algorithm(2)\n",
    "### Description\n",
    "Write code to find the greatest common divisor of 84 and 60 using the Euclidean algorithm.\n",
    "### input\n",
    "Two numbers 84 and 60 are given.\n",
    "3484279\n",
    "### Output\n",
    "Prints the greatest common divisor for two numbers.\n",
    "\n",
    "\n",
    "### Sample input\n",
    "84 60\n",
    "### Sample Output 1\n",
    "84 and 60: 12"
   ]
  },
  {
   "cell_type": "code",
   "execution_count": 94,
   "id": "db683dee",
   "metadata": {},
   "outputs": [
    {
     "name": "stdout",
     "output_type": "stream",
     "text": [
      "84 60\n",
      "84 and 60: 12\n"
     ]
    }
   ],
   "source": [
    "def solve(a, b):\n",
    "    while b:\n",
    "        a, b = b, a % b\n",
    "    return a\n",
    "N1, N2 = map(int, input().split())\n",
    "gcd = solve(N1, N2)\n",
    "print(f\"{N1} and {N2}: {gcd}\")"
   ]
  },
  {
   "cell_type": "code",
   "execution_count": 95,
   "id": "12d84f9e",
   "metadata": {},
   "outputs": [
    {
     "name": "stdout",
     "output_type": "stream",
     "text": [
      "84 60\n",
      "84 and 60: 12\n"
     ]
    }
   ],
   "source": [
    "def euclidean_algorithm_recursive(a, b):\n",
    "    if b == 0:\n",
    "        return a\n",
    "    else:\n",
    "        return euclidean_algorithm_recursive(b, a % b)\n",
    "a, b = map(int, input().split())\n",
    "gcd = euclidean_algorithm_recursive(a, b)\n",
    "print(f\"{a} and {b}: {gcd}\")\n"
   ]
  },
  {
   "cell_type": "markdown",
   "id": "750fb6f7",
   "metadata": {},
   "source": [
    "# 2.25\n",
    "## Ax + By = C\n",
    "### Description\n",
    "Given A, B, and C, find the (x,y) pair that satisfies Ax + By = C and satisfies the following conditions.\n",
    "\n",
    "x, y are integers\n",
    "\n",
    "1,000,000,000 ≤ x, y ≤ 1,000,000,000\n",
    "### input\n",
    "A, B, and C are given.\n",
    "\n",
    "1,000,000,000 ≤ A, B ≤ 1,000,000,000\n",
    "\n",
    "A, B ≠ 0\n",
    "3484279\n",
    "### Output\n",
    "Outputs x and y that satisfy Ax + By = C, separated by spaces. If there is no (x,y) that satisfies the condition, -1 is output.\n",
    "### Sample input\n",
    "1 2 3\n",
    "### Sample Output 1\n",
    "3 0\n"
   ]
  },
  {
   "cell_type": "code",
   "execution_count": 107,
   "id": "a12abf1d",
   "metadata": {},
   "outputs": [
    {
     "name": "stdout",
     "output_type": "stream",
     "text": [
      "1 2 3\n",
      "3 6\n"
     ]
    }
   ],
   "source": [
    "def gcd(a, b):\n",
    "    while b:\n",
    "        a, b = b, a % b\n",
    "    return a\n",
    "\n",
    "A, B, C = map(int, input().split())\n",
    "GCD = gcd(A, B)\n",
    "\n",
    "if C % GCD == 0:\n",
    "    scaling_factor = C // GCD\n",
    "    x = scaling_factor * A\n",
    "    y = scaling_factor * B\n",
    "    print(x, y)\n",
    "else:\n",
    "    print(-1)\n"
   ]
  },
  {
   "cell_type": "markdown",
   "id": "5413b8f5",
   "metadata": {},
   "source": [
    "# 2.26\n",
    "## Greatest common divisor of A and B\n",
    "### Description\n",
    "Given two natural numbers A and B, where all digits are 1. Write a program to find the greatest common divisor of A and B?\n",
    "\n",
    "For example, if A is 111 and B is 1111, the greatest common divisor of A and B is 1, and if A is 111 and B is 111111, the greatest common divisor is 111.\n",
    "### input\n",
    "In the first line, the number of 1s that make up two natural numbers A and B is given. The number entered is a natural number less than 263.\n",
    "### Output\n",
    "Prints the greatest common divisor of A and B on the first line. The correct answer does not exceed 10 million digits.\n",
    "### Sample input\n",
    "3 6\n",
    "### Sample Output 1\n",
    "111\n"
   ]
  },
  {
   "cell_type": "code",
   "execution_count": 109,
   "id": "36967ce3",
   "metadata": {},
   "outputs": [
    {
     "name": "stdout",
     "output_type": "stream",
     "text": [
      "1 2 3\n",
      "3 0\n"
     ]
    }
   ],
   "source": [
    "import math\n",
    "\n",
    "def extended_gcd(a, b):\n",
    "    if b == 0:\n",
    "        return (1, 0)\n",
    "    else:\n",
    "        x, y = extended_gcd(b, a % b)\n",
    "        return (y, x - (a // b) * y)\n",
    "\n",
    "def find_xy(A, B, C):\n",
    "    gcd = math.gcd(A, B)\n",
    "\n",
    "    if C % gcd != 0:\n",
    "        return -1  # No solution\n",
    "\n",
    "    x0, y0 = extended_gcd(A, B)\n",
    "    x = x0 * (C // gcd)\n",
    "    y = y0 * (C // gcd)\n",
    "\n",
    "    return x, y\n",
    "\n",
    "# Input\n",
    "A, B, C = map(int, input().split())\n",
    "\n",
    "# Output\n",
    "result = find_xy(A, B, C)\n",
    "if result == -1:\n",
    "    print(-1)\n",
    "else:\n",
    "    print(result[0], result[1])\n"
   ]
  },
  {
   "cell_type": "code",
   "execution_count": 108,
   "id": "d3792bba",
   "metadata": {},
   "outputs": [
    {
     "name": "stdout",
     "output_type": "stream",
     "text": [
      "1 2 3\n",
      "3 6\n"
     ]
    }
   ],
   "source": [
    "def gcd(a, b):\n",
    "    while b:\n",
    "        a, b = b, a % b\n",
    "    return a\n",
    "\n",
    "A, B, C = map(int, input().split())\n",
    "GCD = gcd(A, B)\n",
    "\n",
    "if C % GCD == 0:\n",
    "    scaling_factor = C // GCD\n",
    "    x = scaling_factor * A\n",
    "    y = scaling_factor * B\n",
    "    print(x, y)\n",
    "else:\n",
    "    print(-1)"
   ]
  },
  {
   "cell_type": "code",
   "execution_count": null,
   "id": "cbedd3d1",
   "metadata": {},
   "outputs": [],
   "source": []
  }
 ],
 "metadata": {
  "kernelspec": {
   "display_name": "Python 3 (ipykernel)",
   "language": "python",
   "name": "python3"
  },
  "language_info": {
   "codemirror_mode": {
    "name": "ipython",
    "version": 3
   },
   "file_extension": ".py",
   "mimetype": "text/x-python",
   "name": "python",
   "nbconvert_exporter": "python",
   "pygments_lexer": "ipython3",
   "version": "3.10.9"
  }
 },
 "nbformat": 4,
 "nbformat_minor": 5
}
