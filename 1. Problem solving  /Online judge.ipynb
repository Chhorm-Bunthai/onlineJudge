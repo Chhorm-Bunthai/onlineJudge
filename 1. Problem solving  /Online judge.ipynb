{
 "cells": [
  {
   "cell_type": "code",
   "execution_count": 6,
   "id": "b7bd9278",
   "metadata": {},
   "outputs": [
    {
     "name": "stdout",
     "output_type": "stream",
     "text": [
      "20\n",
      "42\n"
     ]
    }
   ],
   "source": [
    "def solve(n):\n",
    "    sqrt = int(N ** 0.5)\n",
    "    l=[]\n",
    "    for i in range(1, sqrt+1):\n",
    "        if n % i == 0:\n",
    "            l.append(i)\n",
    "            if i!= n // i:\n",
    "                l.append(n // i)\n",
    "    return sum(l)\n",
    "N = int(input())\n",
    "print(solve(N))"
   ]
  },
  {
   "cell_type": "code",
   "execution_count": 7,
   "id": "adf4846f",
   "metadata": {},
   "outputs": [
    {
     "name": "stdout",
     "output_type": "stream",
     "text": [
      "(141, 16)\n"
     ]
    }
   ],
   "source": [
    "def solve(n, m):\n",
    "    minn, mini = n[0], 0 \n",
    "    for i in range(1, m):\n",
    "        if minn > n[i]:\n",
    "            minn, mini = n[i], i\n",
    "    return minn, mini\n",
    "\n",
    "import random\n",
    "SEED, MIN, MAX, N = 1987,123,4567,89\n",
    "random.seed(SEED)\n",
    "S = random.sample(range(MIN, MAX), N)\n",
    "answer = solve(S, len(S))\n",
    "print(answer)"
   ]
  },
  {
   "cell_type": "markdown",
   "id": "c4c239cc",
   "metadata": {},
   "source": [
    "## 1.10\n"
   ]
  },
  {
   "cell_type": "code",
   "execution_count": 16,
   "id": "9d2d1639",
   "metadata": {},
   "outputs": [
    {
     "name": "stdout",
     "output_type": "stream",
     "text": [
      "12\n",
      "710\n",
      "7\n",
      "257\n",
      "319\n",
      "12 is a composite number.\n",
      "\n",
      "710 is a composite number.\n",
      "\n",
      "7 is prime number.\n",
      "\n",
      "257 is prime number.\n",
      "\n",
      "319 is a composite number.\n",
      "\n"
     ]
    }
   ],
   "source": [
    "\n",
    "def isPrime(n):\n",
    "    if n <= 1:\n",
    "        return False\n",
    "    for i in range(2,int(n ** 0.5)+1):\n",
    "        if n % i == 0:\n",
    "            return False\n",
    "    return True\n",
    "def solution(numbers):\n",
    "    for i in numbers:\n",
    "        if isPrime(i) :\n",
    "            print(f'{i} is prime number.')\n",
    "        else:\n",
    "            print(f'{i} is a composite number.')\n",
    "        print()\n",
    "numbers = [int(input()) for _ in range(5)]\n",
    "solution(numbers)\n"
   ]
  },
  {
   "cell_type": "code",
   "execution_count": 20,
   "id": "61177f12",
   "metadata": {},
   "outputs": [
    {
     "name": "stdout",
     "output_type": "stream",
     "text": [
      "10\n",
      "Number of operations 1\n",
      "Number of operations 2\n",
      "Number of operations 3\n",
      "Number of operations 4\n",
      "Number of operations 5\n",
      "Number of operations 6\n",
      "Number of operations 7\n",
      "Number of operations 8\n",
      "Number of operations 9\n",
      "Number of operations 10\n"
     ]
    }
   ],
   "source": [
    "def solve(n):\n",
    "    for i in range(1, n+1):\n",
    "        print('Number of operations', i)\n",
    "N = int(input())\n",
    "solve(N)"
   ]
  },
  {
   "cell_type": "code",
   "execution_count": 31,
   "id": "6560aa66",
   "metadata": {},
   "outputs": [
    {
     "name": "stdout",
     "output_type": "stream",
     "text": [
      "1 1000\n",
      "25\n"
     ]
    }
   ],
   "source": [
    "# 1.14\n",
    "def is_prime(num):\n",
    "    if num <= 1:\n",
    "        return False\n",
    "    for i in range(2, int(num**0.5) + 1):\n",
    "        if num % i == 0:\n",
    "            return False\n",
    "    return True\n",
    "\n",
    "A, B = map(int, input().split())\n",
    "cnt = 0\n",
    "for i in range(A, B+1):\n",
    "    if is_prime(i):\n",
    "        for j in range(2, B + 1):\n",
    "            if i ** j <= B:\n",
    "                cnt +=1\n",
    "print(cnt)\n"
   ]
  },
  {
   "cell_type": "code",
   "execution_count": 5,
   "id": "b12b93c3",
   "metadata": {},
   "outputs": [
    {
     "name": "stdout",
     "output_type": "stream",
     "text": [
      "1 1000\n",
      "25\n"
     ]
    }
   ],
   "source": [
    "def is_prime(num):\n",
    "    if num <= 1:\n",
    "        return False\n",
    "    for i in range(2, int(num**0.5) + 1):\n",
    "        if num % i == 0:\n",
    "            return False\n",
    "    return True\n",
    "\n",
    "A, B = map(int, input().split())\n",
    "cnt = 0\n",
    "for i in range(A, B + 1):\n",
    "    if is_prime(i):\n",
    "        for j in range(2,  B + 1):\n",
    "            if i ** j <= B:\n",
    "                cnt+=1\n",
    "print(cnt)\n"
   ]
  },
  {
   "cell_type": "code",
   "execution_count": 41,
   "id": "1b937f49",
   "metadata": {},
   "outputs": [
    {
     "name": "stdout",
     "output_type": "stream",
     "text": [
      "1 10 3\n",
      "17\n",
      "5\n"
     ]
    }
   ],
   "source": [
    "# 1. 07\n",
    "def is_prime(n):\n",
    "    if n <= 1:\n",
    "        return False\n",
    "    for i in range(2, int(n ** 0.5) + 1):\n",
    "        if n % i == 0:\n",
    "            return False\n",
    "    return True\n",
    "def kth_smallest_prime_between(A, B, K):\n",
    "    prime_count = 0\n",
    "    kth_prime = None\n",
    "    for number in range(A, B + 1):\n",
    "        if is_prime(number):\n",
    "            prime_count += 1\n",
    "            if prime_count == K:\n",
    "                kth_prime = number\n",
    "                break\n",
    "\n",
    "    return prime_count, kth_prime\n",
    "A, B, K = map(int, input().split())\n",
    "prime_count, kth_prime = kth_smallest_prime_between(A, B, K)\n",
    "\n",
    "if kth_prime != 0:\n",
    "    print(sum(filter(is_prime, range(A, B + 1))))\n",
    "    print(kth_prime)\n",
    "else:\n",
    "    print(-1)\n"
   ]
  },
  {
   "cell_type": "code",
   "execution_count": null,
   "id": "10863f61",
   "metadata": {},
   "outputs": [],
   "source": []
  },
  {
   "cell_type": "code",
   "execution_count": null,
   "id": "7a7a8b53",
   "metadata": {},
   "outputs": [],
   "source": [
    "1 "
   ]
  }
 ],
 "metadata": {
  "kernelspec": {
   "display_name": "Python 3 (ipykernel)",
   "language": "python",
   "name": "python3"
  },
  "language_info": {
   "codemirror_mode": {
    "name": "ipython",
    "version": 3
   },
   "file_extension": ".py",
   "mimetype": "text/x-python",
   "name": "python",
   "nbconvert_exporter": "python",
   "pygments_lexer": "ipython3",
   "version": "3.10.9"
  }
 },
 "nbformat": 4,
 "nbformat_minor": 5
}
