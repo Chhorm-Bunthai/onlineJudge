{
 "cells": [
  {
   "cell_type": "markdown",
   "id": "43f1e25c",
   "metadata": {},
   "source": [
    "# 5.01\n",
    "## The size of the intersection\n",
    "### Description\n",
    "Given lists S and X with N elements, print the size of the intersection of S and X. (1≤N≤1,000,000)\n",
    "\n",
    "However, S is given in ascending order, and S and X are generated using the random module as follows.\n",
    "\n",
    "\n",
    "\n",
    "importrandom\n",
    "SEED, MIN, MAX, N=2022,10,30,10\n",
    "random.seed(SEED)\n",
    "S=sorted(random.sample(range(MIN, MAX), N))\n",
    "X=random.sample(range(MIN, MAX), N)\n",
    "print(f\"S ={S}\")\n",
    "print(f\"X ={X}\")\n",
    "\n",
    "S = [11, 16, 18, 19, 21, 22, 23, 24, 27, 28]\n",
    "X = [20, 10, 23, 19, 24, 18, 27, 25, 26, 28]\n",
    "### Input\n",
    "In the first line, SEED, MIN, MAX, and N, which can generate S and X, are given in order.\n",
    "### Output\n",
    "In the first line, the size of the intersection of S and X is output.\n",
    "### Sample Output\n",
    "2022 10 30 10\n",
    "### Sample Output\n",
    "6"
   ]
  },
  {
   "cell_type": "code",
   "execution_count": null,
   "id": "d874bc3d",
   "metadata": {},
   "outputs": [],
   "source": [
    "import random\n",
    "def binarysearch(S,X):\n",
    "    low, high = 0, len(S) - 1\n",
    "    while low <= high:\n",
    "        mid = (low + high) // 2\n",
    "        if X == S[mid]:\n",
    "            return S[mid]\n",
    "        elif X < S[mid]:\n",
    "            high = mid - 1\n",
    "        else:\n",
    "            low = mid + 1\n",
    "    return -1\n",
    "\n",
    "def solve(S, X):\n",
    "    lst = []\n",
    "    for i in range(len(X)):\n",
    "        if binarysearch(S, X[i]):\n",
    "            lst.append(X[i])\n",
    "    return lst\n",
    "SEED, MIN, MAX, N=2022,10,30,10\n",
    "random.seed(SEED)\n",
    "S=sorted(random.sample(range(MIN, MAX), N))\n",
    "X=random.sample(range(MIN, MAX), N)\n",
    "res = solve(S, X)\n",
    "print(len(res))"
   ]
  },
  {
   "cell_type": "markdown",
   "id": "e9df6dd1",
   "metadata": {},
   "source": [
    "# 5.02\n",
    "## Total number of Binary Search\n",
    "### Description\n",
    "Given lists S and X with N elements, find the size of the intersection of S and X.(1≤N≤1,000,000)\n",
    "\n",
    "If you find all elements of X in S using a binary search and find the size of the intersection, print the total number of times the unit operation is performed in the binary search. The unit operation is assumed to be an operation that compares whether the element x[i] of X and the element S[i] of S are the same.\n",
    "\n",
    "However, S is given in ascending order, and S and X are generated using the random module as follows.\n",
    "\n",
    "\n",
    "\n",
    "importrandom\n",
    "SEED, MIN, MAX, N=2022,10,30,10\n",
    "random.seed(SEED)\n",
    "S=sorted(random.sample(range(MIN, MAX), N))\n",
    "X=random.sample(range(MIN, MAX), N)\n",
    "print(f\"S ={S}\")\n",
    "print(f\"X ={X}\")\n",
    "\n",
    "S = [11, 16, 18, 19, 21, 22, 23, 24, 27, 28]\n",
    "X = [20, 10, 23, 19, 24, 18, 27, 25, 26, 28]\n",
    "### Input\n",
    "In the first line, SEED, MIN, MAX, and N, which can generate S and X, are given in order.\n",
    "### Output\n",
    "In the first line, when finding the size of the intersection of S and X through binary search, the number of executions of the unit operation (X[i] == S[i]) is output.\n",
    "### Sample Output\n",
    "2022 10 30 10\n",
    "### Sample Output\n",
    "33"
   ]
  },
  {
   "cell_type": "code",
   "execution_count": 40,
   "id": "59df927b",
   "metadata": {},
   "outputs": [
    {
     "name": "stdout",
     "output_type": "stream",
     "text": [
      "2022 10 30 10\n",
      "33\n"
     ]
    }
   ],
   "source": [
    "import random\n",
    "def binarysearch(arr, target):\n",
    "    low, high = 0, len(arr) - 1\n",
    "    comparisons = 0\n",
    "    while low <= high:\n",
    "        mid = (low + high) // 2\n",
    "        comparisons += 1\n",
    "        if arr[mid] == target:\n",
    "            return comparisons\n",
    "        elif arr[mid] < target:\n",
    "            low = mid + 1\n",
    "        else:\n",
    "            high = mid - 1\n",
    "    return comparisons\n",
    "SEED, MIN, MAX, N = map(int, input().split())\n",
    "random.seed(SEED)\n",
    "S = sorted(random.sample(range(MIN, MAX), N))\n",
    "X = random.sample(range(MIN, MAX), N)\n",
    "total_comparisons = sum(binarysearch(S, x) for x in X)\n",
    "print(total_comparisons)\n"
   ]
  },
  {
   "cell_type": "markdown",
   "id": "d0b20f24",
   "metadata": {},
   "source": [
    "# 5.03\n",
    "## ‘In-Place Number’\n",
    "### Description\n",
    "If the value of a list element in a list S is the same as its own index value, let this number be called an ‘in-place number’.\n",
    "\n",
    "For example, in the list S = [-3,-1,1,3,5,7,9], S[3] = 3, so 3 is an in-place number in this list.\n",
    "\n",
    "Given a list S with N elements consisting of only odd numbers, sorted in ascending order, find the number in place and print it. If there is no in-place number, -1 is output.\n",
    "\n",
    "However, list S should be generated using the random module as follows. That is, the given list of integers S is a sequence of odd numbers greater than or equal to -N and less than 2N, sorted in ascending order.\n",
    "\n",
    "\n",
    "\n",
    "importrandom\n",
    "SEED, N=1000,15\n",
    "random.seed(SEED)\n",
    "S=sorted(random.sample(range(-N,2*N,2), N))\n",
    "print(S)\n",
    "\n",
    "[-11, -9, -5, -3, 1, 5, 7, 9, 11, 13, 15, 19, 21, 25, 27]\n",
    "### Input\n",
    "In the first line, SEED and N for generating the integer list S are given in order. However, since N is given only odd values, there cannot be more than two in-place numbers.\n",
    "### Output\n",
    "In the first line, find the in-place number in the integer list S and print it. If there is no in-place number, -1 is output.\n",
    "### Sample Output\n",
    "12345 5001\n",
    "### Sample Output\n",
    "2523"
   ]
  },
  {
   "cell_type": "code",
   "execution_count": 45,
   "id": "a3c4f27a",
   "metadata": {},
   "outputs": [
    {
     "name": "stdout",
     "output_type": "stream",
     "text": [
      "2523\n"
     ]
    }
   ],
   "source": [
    "import random\n",
    "SEED, N=12345,5001\n",
    "random.seed(SEED)\n",
    "S=sorted(random.sample(range(-N,2*N,2), N))\n",
    "\n",
    "def binarysearch(S):\n",
    "    low, high = 0, len(S)\n",
    "    while low <= high:\n",
    "        mid = (low + high) // 2\n",
    "        if mid == S[mid]:\n",
    "            return S[mid]\n",
    "        elif mid < S[mid]:\n",
    "            high = mid - 1\n",
    "        else:\n",
    "            low = mid + 1\n",
    "    return -1 \n",
    "print(binarysearch(S))"
   ]
  },
  {
   "cell_type": "markdown",
   "id": "22459063",
   "metadata": {},
   "source": [
    "# 5.04\n",
    "## The Smallest Positive Integer\n",
    "### Description\n",
    "Given a list S with N elements sorted in ascending order, find the smallest positive integer and print it. If there are no positive integers in list S, 0 is output.\n",
    "\n",
    "For example, in the list S = [-3,-1,1,3,5,7,9], S[2] = 1 is the smallest positive integer.\n",
    "\n",
    "However, list S should be generated using the random module as follows. That is, the given list of integers S is a sequence of numbers greater than or equal to -10N and less than 10N, sorted in ascending order.\n",
    "\n",
    "\n",
    "\n",
    "importrandom\n",
    "SEED, N=1000,10\n",
    "random.seed(SEED)\n",
    "S=sorted(random.sample(range(-10*N,10*N), N))\n",
    "print(S)\n",
    "\n",
    "[-84, -75, -58, -10, 0, 9, 19, 71, 94, 99]\n",
    "### Input\n",
    "In the first line, SEED and N are given in order to generate the integer list S.\n",
    "### Output\n",
    "In the first line, find the smallest positive integer in the integer list S and print it. If there is no positive integer, 0 is output.\n",
    "### Sample Output\n",
    "1000 15\n",
    "### Sample Output\n",
    "30"
   ]
  },
  {
   "cell_type": "code",
   "execution_count": 52,
   "id": "b00934e9",
   "metadata": {},
   "outputs": [
    {
     "name": "stdout",
     "output_type": "stream",
     "text": [
      "30\n"
     ]
    }
   ],
   "source": [
    "import random\n",
    "\n",
    "def binarysearch(s):\n",
    "    low, high = 0, len(s) - 1\n",
    "    while low < high:\n",
    "        mid = (low + high) // 2\n",
    "        if  mid == 0 or S[mid - 1] <= 0:\n",
    "                return S[mid]\n",
    "        elif s[mid] <= 0:\n",
    "            low = mid + 1\n",
    "        else:\n",
    "            high = mid - 1\n",
    "\n",
    "SEED, N=1000,15\n",
    "random.seed(SEED)\n",
    "S=sorted(random.sample(range(-10*N,10*N), N))\n",
    "print(binarysearch(S))"
   ]
  },
  {
   "cell_type": "markdown",
   "id": "42a4ad3d",
   "metadata": {},
   "source": [
    "# 5.05\n",
    "## The number of Prime Numbers\n",
    "### Description\n",
    "Given a list S of positive integers with N elements, print the number of prime numbers among the elements of S.\n",
    "\n",
    "However, S must be generated using the random module as follows.\n",
    "\n",
    "\n",
    "\n",
    "importrandom\n",
    "SEED, MIN, MAX, N=2022,10,30,10\n",
    "random.seed(SEED)\n",
    "S=random.sample(range(MIN, MAX), N)\n",
    "print(S)\n",
    "\n",
    "[27, 19, 24, 28, 11, 18, 22, 21, 23, 16]\n",
    "### Input\n",
    "In the first line, SEED, MIN, MAX, and N are given in order to generate a list of positive integers S.\n",
    "### Output\n",
    "The first line prints the number of prime numbers among the elements of S.\n",
    "### Sample Output\n",
    "2022 10 30 10\n",
    "### Sample Output\n",
    "3"
   ]
  },
  {
   "cell_type": "code",
   "execution_count": 61,
   "id": "680dbfcb",
   "metadata": {},
   "outputs": [
    {
     "name": "stdout",
     "output_type": "stream",
     "text": [
      "2022 10 30 10\n",
      "[27, 19, 24, 28, 11, 18, 22, 21, 23, 16]\n",
      "3\n"
     ]
    }
   ],
   "source": [
    "import random\n",
    "def is_prime(n):\n",
    "    if n <2:\n",
    "        return False\n",
    "    for i in range(2, int(n ** 0.5) + 1):\n",
    "        if n % i == 0:\n",
    "            return False\n",
    "    return True\n",
    "def solve(S):\n",
    "    cnt = 0\n",
    "    for i in S:\n",
    "        if is_prime(i):\n",
    "            cnt += 1\n",
    "    return cnt\n",
    "SEED, MIN, MAX, N= map(int, input().split())\n",
    "random.seed(SEED)\n",
    "S=random.sample(range(MIN, MAX), N)\n",
    "print(solve(S))"
   ]
  },
  {
   "cell_type": "markdown",
   "id": "6909d340",
   "metadata": {},
   "source": [
    "# 5.06\n",
    "## Budget Allocation\n",
    "### Description\n",
    "Based on the budget requested by N local governments, we plan to allocate the total budget M determined by the central government using the following rules.\n",
    "\n",
    "If a budget can be allocated for all requests, the requested amount will be allocated as is.\n",
    "\n",
    "If the budget can be allocated for all requests, an upper limit U is set, and the upper limit is allocated for budget requests exceeding the upper limit. For budget requests below the upper limit, the requested amount is allocated as is.\n",
    "\n",
    "For example, if the total budget set by the central government is M=485, and the budget requested by N=4 local governments is S=[120, 110, 140, 150], it is not possible to allocate a budget for all requests. At this time, if the upper limit is set to U=127, the budget allocation becomes S’=[120, 110, 127, 127] and the total amount becomes 484. Therefore, 127 is the maximum amount that can be allocated to the budget within the total budget range.\n",
    "\n",
    "Given the budget amount requested by N local governments and the central government's total budget M, output the maximum upper limit U that satisfies the above conditions. However, all budget amounts will be determined only as whole numbers.\n",
    "### Input\n",
    "In the first line, the number of local governments, N, and the total budget of the central government, M, are given.\n",
    "\n",
    "In the second line, the budget amounts requested by local governments are given in order.\n",
    "### Output\n",
    "In the first line, the maximum amount U that can be allocated to the budget within the total budget of the central government is output.\n",
    "### Sample Output\n",
    "4 485<br>\n",
    "120 110 140 150\n",
    "### Sample Output\n",
    "127"
   ]
  },
  {
   "cell_type": "code",
   "execution_count": null,
   "id": "fd0623ad",
   "metadata": {},
   "outputs": [],
   "source": [
    "def binarysearch()\n",
    "\n",
    "\n",
    "def solve(n, m, budget):\n",
    "    pass\n",
    "\n",
    "N, M = map(int, input().split())\n",
    "budget = input().split()\n",
    "print(solve(N,M,budget))"
   ]
  }
 ],
 "metadata": {
  "kernelspec": {
   "display_name": "Python 3 (ipykernel)",
   "language": "python",
   "name": "python3"
  },
  "language_info": {
   "codemirror_mode": {
    "name": "ipython",
    "version": 3
   },
   "file_extension": ".py",
   "mimetype": "text/x-python",
   "name": "python",
   "nbconvert_exporter": "python",
   "pygments_lexer": "ipython3",
   "version": "3.10.9"
  }
 },
 "nbformat": 4,
 "nbformat_minor": 5
}
